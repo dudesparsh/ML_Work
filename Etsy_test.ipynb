{
  "nbformat": 4,
  "nbformat_minor": 0,
  "metadata": {
    "colab": {
      "name": "Etsy test.ipynb",
      "version": "0.3.2",
      "provenance": [],
      "collapsed_sections": [],
      "include_colab_link": true
    },
    "kernelspec": {
      "name": "python3",
      "display_name": "Python 3"
    }
  },
  "cells": [
    {
      "cell_type": "markdown",
      "metadata": {
        "id": "view-in-github",
        "colab_type": "text"
      },
      "source": [
        "<a href=\"https://colab.research.google.com/github/dudesparsh/ML_Work/blob/master/Etsy_test.ipynb\" target=\"_parent\"><img src=\"https://colab.research.google.com/assets/colab-badge.svg\" alt=\"Open In Colab\"/></a>"
      ]
    },
    {
      "cell_type": "code",
      "metadata": {
        "id": "tYAbHUSBhnVp",
        "colab_type": "code",
        "colab": {}
      },
      "source": [
        "import numpy as np\n",
        "import pandas as pd\n",
        "import matplotlib.pyplot as plt"
      ],
      "execution_count": 0,
      "outputs": []
    },
    {
      "cell_type": "code",
      "metadata": {
        "id": "LNArtuHSiYKM",
        "colab_type": "code",
        "outputId": "0a4fc244-f3be-4e9b-e110-33ad89483493",
        "colab": {
          "base_uri": "https://localhost:8080/",
          "height": 34
        }
      },
      "source": [
        "dataset = pd.read_csv('Etsy-Kids.csv')\n",
        "X = dataset.iloc[:, :].values\n",
        "# X[:,4] = X[:, 4].str.replace(\",\",\"\").astype(int)\n",
        "#X[:,4] = X[:,4].str.replace(\",\",\"\").astype(float)\n",
        "#X[:,4] = X[:, 4].astype(int)\n",
        "#X[:,4] = np.char.replace(X[:,4], ',','').astype(np.float64)\n",
        "X.shape"
      ],
      "execution_count": 96,
      "outputs": [
        {
          "output_type": "execute_result",
          "data": {
            "text/plain": [
              "(71, 7)"
            ]
          },
          "metadata": {
            "tags": []
          },
          "execution_count": 96
        }
      ]
    },
    {
      "cell_type": "code",
      "metadata": {
        "id": "_AzLhrwmEhnH",
        "colab_type": "code",
        "colab": {}
      },
      "source": [
        "#X = np.sort(X, order=[X[:, 4], X[:, 3], X[:, 5]])\n",
        "X = X[X[:,4].argsort()[::-1]]\n"
      ],
      "execution_count": 0,
      "outputs": []
    },
    {
      "cell_type": "code",
      "metadata": {
        "id": "OhunvvyHizGy",
        "colab_type": "code",
        "outputId": "c7e48f94-f4bb-4034-bae9-387d44f19713",
        "colab": {
          "base_uri": "https://localhost:8080/",
          "height": 102
        }
      },
      "source": [
        "y = np.linspace(0,10,X.shape[0])\n",
        "y = 1+ np.floor(y)\n",
        "y.astype(int)"
      ],
      "execution_count": 98,
      "outputs": [
        {
          "output_type": "execute_result",
          "data": {
            "text/plain": [
              "array([ 1,  1,  1,  1,  1,  1,  1,  2,  2,  2,  2,  2,  2,  2,  3,  3,  3,\n",
              "        3,  3,  3,  3,  4,  4,  4,  4,  4,  4,  4,  5,  5,  5,  5,  5,  5,\n",
              "        5,  6,  6,  6,  6,  6,  6,  6,  7,  7,  7,  7,  7,  7,  7,  8,  8,\n",
              "        8,  8,  8,  8,  8,  9,  9,  9,  9,  9,  9,  9, 10, 10, 10, 10, 10,\n",
              "       10, 10, 11])"
            ]
          },
          "metadata": {
            "tags": []
          },
          "execution_count": 98
        }
      ]
    },
    {
      "cell_type": "code",
      "metadata": {
        "id": "oD5SzMpCq91K",
        "colab_type": "code",
        "colab": {}
      },
      "source": [
        "# # Working part\n",
        "# temp = X[:, 4]\n",
        "# temp\n",
        "# temp = str(temp)\n",
        "# temp = temp.replace(\",\", \"\")\n",
        "# temp = np.fromstring(temp)\n",
        "# temp\n",
        "\n",
        "# Not working part\n",
        "#temp = float(temp.replace(',',''))\n",
        "# temp.tolist()\n",
        "\n",
        "# temp = np.replace(temp, '.txt', '.lc')\n",
        "# temp = np.array(str(temp), dtype=int)\n"
      ],
      "execution_count": 0,
      "outputs": []
    },
    {
      "cell_type": "code",
      "metadata": {
        "id": "Keky-qpXswVb",
        "colab_type": "code",
        "colab": {}
      },
      "source": [
        "z = np.delete(X, [0,1,2], axis=1)\n"
      ],
      "execution_count": 0,
      "outputs": []
    },
    {
      "cell_type": "code",
      "metadata": {
        "id": "sF8n73y3tNsr",
        "colab_type": "code",
        "colab": {}
      },
      "source": [
        "from sklearn.preprocessing import LabelEncoder, OneHotEncoder\n",
        "labelencoder_z = LabelEncoder()\n",
        "z[:, 3] = 1+labelencoder_z.fit_transform(z[:, 3])\n",
        "\n",
        "# z[:, 1] = z[:, 1].astype(np.float)\n",
        "\n",
        "#z[:,1].str.replace(',', '').astype(float)\n",
        "# z = np.fromstring(z[:,1], dtype=float, sep=',')\n",
        "\n",
        "#z[:,1] = np.char.replace(z[:,1], ',','')\n",
        "#z[:,1] = float(z[:,1].replace(',',''))\n",
        "\n",
        "# z = float(z.replace(',',''))\n",
        "#z[:,1] = np.char.replace(z[:,1], ',', '')\n",
        "\n",
        "\n"
      ],
      "execution_count": 0,
      "outputs": []
    },
    {
      "cell_type": "code",
      "metadata": {
        "id": "BqScab8ytRvI",
        "colab_type": "code",
        "colab": {}
      },
      "source": [
        "z"
      ],
      "execution_count": 0,
      "outputs": []
    },
    {
      "cell_type": "code",
      "metadata": {
        "id": "in-1SKlxtVyK",
        "colab_type": "code",
        "outputId": "4e9e14f9-8882-49d5-8461-ac44c539f4ed",
        "colab": {
          "base_uri": "https://localhost:8080/",
          "height": 51
        }
      },
      "source": [
        "from sklearn.preprocessing import PolynomialFeatures\n",
        "poly_reg = PolynomialFeatures(degree = 4)\n",
        "z_poly = poly_reg.fit_transform(z)\n",
        "poly_reg.fit(z_poly, y)\n"
      ],
      "execution_count": 102,
      "outputs": [
        {
          "output_type": "execute_result",
          "data": {
            "text/plain": [
              "PolynomialFeatures(degree=4, include_bias=True, interaction_only=False,\n",
              "                   order='C')"
            ]
          },
          "metadata": {
            "tags": []
          },
          "execution_count": 102
        }
      ]
    },
    {
      "cell_type": "code",
      "metadata": {
        "id": "YZ-zx6w1vZoB",
        "colab_type": "code",
        "outputId": "258ca0ca-a727-40d6-94fb-989cda0472be",
        "colab": {
          "base_uri": "https://localhost:8080/",
          "height": 34
        }
      },
      "source": [
        "from sklearn.linear_model import LinearRegression\n",
        "# regressor = LinearRegression()\n",
        "\n",
        "lin_reg_2 = LinearRegression()\n",
        "lin_reg_2.fit(z_poly, y)\n",
        "\n",
        "# z1 = df.round(0)\n",
        "# z1 = z1.astype(int)\n"
      ],
      "execution_count": 103,
      "outputs": [
        {
          "output_type": "execute_result",
          "data": {
            "text/plain": [
              "LinearRegression(copy_X=True, fit_intercept=True, n_jobs=None, normalize=False)"
            ]
          },
          "metadata": {
            "tags": []
          },
          "execution_count": 103
        }
      ]
    },
    {
      "cell_type": "code",
      "metadata": {
        "id": "ROSKb0q2xhMO",
        "colab_type": "code",
        "colab": {}
      },
      "source": [
        "# df = poly_reg.predict(z)\n",
        "# z1 = df.round(0)\n",
        "# z1 = z1.astype(int)\n",
        "# from sklearn.metrics import accuracy_score\n",
        "# accuracy = accuracy_score(y, z)\n",
        "# accuracy\n",
        "\n",
        "# # Non Useful\n",
        "# z_poly.astype(int)\n",
        "# z_poly.shape"
      ],
      "execution_count": 0,
      "outputs": []
    },
    {
      "cell_type": "code",
      "metadata": {
        "id": "OkjOrO7uyww4",
        "colab_type": "code",
        "outputId": "ffe1673b-9861-4829-d6f9-1766d309fc1b",
        "colab": {
          "base_uri": "https://localhost:8080/",
          "height": 34
        }
      },
      "source": [
        "# lin_reg_2.predict(poly_reg.fit_transform(6.5))\n",
        "\n",
        "df = lin_reg_2.predict(poly_reg.fit_transform(z))\n",
        "z1 = df.round(0)\n",
        "z1 = z1.astype(int)\n",
        "\n",
        "from sklearn.metrics import accuracy_score\n",
        "accuracy = accuracy_score(y, z1)\n",
        "accuracy\n"
      ],
      "execution_count": 105,
      "outputs": [
        {
          "output_type": "execute_result",
          "data": {
            "text/plain": [
              "0.4788732394366197"
            ]
          },
          "metadata": {
            "tags": []
          },
          "execution_count": 105
        }
      ]
    },
    {
      "cell_type": "code",
      "metadata": {
        "id": "MnFM5aZbDyKD",
        "colab_type": "code",
        "colab": {}
      },
      "source": [
        "df3 = pd.DataFrame({'Actual': y, 'Predicted': z1})\n",
        "df3"
      ],
      "execution_count": 0,
      "outputs": []
    },
    {
      "cell_type": "code",
      "metadata": {
        "id": "N6vC6o5KGUG3",
        "colab_type": "code",
        "outputId": "760847b9-3fe7-44ff-cea1-ae22d8d47f84",
        "colab": {
          "base_uri": "https://localhost:8080/",
          "height": 68
        }
      },
      "source": [
        "from sklearn import metrics\n",
        "print('Mean Absolute Error:', metrics.mean_absolute_error(y, z1))\n",
        "print('Mean Squared Error:', metrics.mean_squared_error(y, z1))\n",
        "print('Root Mean Squared Error:', np.sqrt(metrics.mean_squared_error(y, z1)))\n",
        "\n",
        "# Error comes out to be only around 0.56 ranks !! which is a great prediction"
      ],
      "execution_count": 107,
      "outputs": [
        {
          "output_type": "stream",
          "text": [
            "Mean Absolute Error: 0.5492957746478874\n",
            "Mean Squared Error: 0.6056338028169014\n",
            "Root Mean Squared Error: 0.7782247765375383\n"
          ],
          "name": "stdout"
        }
      ]
    },
    {
      "cell_type": "code",
      "metadata": {
        "id": "9QvkNaAeD8ru",
        "colab_type": "code",
        "colab": {}
      },
      "source": [
        "import pickle\n"
      ],
      "execution_count": 0,
      "outputs": []
    },
    {
      "cell_type": "code",
      "metadata": {
        "id": "dtNgPBN9HG5I",
        "colab_type": "code",
        "colab": {}
      },
      "source": [
        "filename='Regressor_model.sav'\n",
        "pickle.dump(lin_reg_2, open('Regressor_model.sav', 'wb'))"
      ],
      "execution_count": 0,
      "outputs": []
    },
    {
      "cell_type": "code",
      "metadata": {
        "id": "0QY8rZhPHV7L",
        "colab_type": "code",
        "colab": {}
      },
      "source": [
        "load_lr_model =pickle.load(open('Regressor_model.sav', 'rb'))"
      ],
      "execution_count": 0,
      "outputs": []
    },
    {
      "cell_type": "code",
      "metadata": {
        "id": "pKfzwRbhISIq",
        "colab_type": "code",
        "outputId": "bf0f7272-731d-447d-ee9b-958d2b72dc3e",
        "colab": {
          "base_uri": "https://localhost:8080/",
          "height": 323
        }
      },
      "source": [
        "load_lr_model.coef_\n"
      ],
      "execution_count": 111,
      "outputs": [
        {
          "output_type": "execute_result",
          "data": {
            "text/plain": [
              "array([-3.16396148e-11,  1.17586907e-05, -5.39729949e-05,  3.14072067e-06,\n",
              "       -1.77680141e-13,  3.33661254e-06, -1.67934525e-04,  1.64905060e-05,\n",
              "        3.53730237e-07, -6.78166458e-04, -2.98715609e-04, -5.39724864e-05,\n",
              "        2.11466886e-05,  3.14063972e-06, -2.37846852e-18,  2.36269470e-05,\n",
              "       -3.83860538e-04,  8.54942955e-05,  3.33661247e-06,  4.20626935e-04,\n",
              "       -6.69094444e-04, -1.67934525e-04,  5.45263341e-05,  1.64905060e-05,\n",
              "        3.53730239e-07, -2.15427740e-08,  8.65266155e-06, -6.78166458e-04,\n",
              "       -6.11811050e-05, -2.98715609e-04, -5.39724864e-05,  5.13434808e-04,\n",
              "        2.11466886e-05,  3.14063972e-06,  0.00000000e+00,  1.48852367e-04,\n",
              "        1.13296315e-04,  4.38744068e-04,  2.36269470e-05, -8.67484526e-05,\n",
              "        2.81617687e-04, -3.83860538e-04,  2.13871552e-05,  8.54942955e-05,\n",
              "        3.33661247e-06,  8.58145707e-09, -3.48972083e-06,  4.20626935e-04,\n",
              "        2.98740264e-05, -6.69094444e-04, -1.67934525e-04, -2.37198069e-04,\n",
              "        5.45263341e-05,  1.64905060e-05,  3.53730239e-07,  6.52428144e-15,\n",
              "        1.60109290e-11, -2.15427740e-08, -2.96384623e-09,  8.65266155e-06,\n",
              "       -6.78166458e-04, -2.45466460e-07, -6.11811050e-05, -2.98715609e-04,\n",
              "       -5.39724864e-05,  1.86574814e-06,  5.13434808e-04,  2.11466886e-05,\n",
              "        3.14063972e-06,  0.00000000e+00])"
            ]
          },
          "metadata": {
            "tags": []
          },
          "execution_count": 111
        }
      ]
    },
    {
      "cell_type": "code",
      "metadata": {
        "id": "H0Wt4hmtItDx",
        "colab_type": "code",
        "outputId": "15620e2f-6615-414c-bcef-e1580cbf6a45",
        "colab": {
          "base_uri": "https://localhost:8080/",
          "height": 34
        }
      },
      "source": [
        "# lin_reg_2.predict(poly_reg.fit_transform(6.5))\n",
        "\n",
        "df4 = load_lr_model.predict(poly_reg.fit_transform(z))\n",
        "z4 = df4.round(0)\n",
        "z4 = z4.astype(int)\n",
        "\n",
        "from sklearn.metrics import accuracy_score\n",
        "accuracy = accuracy_score(y, z4)\n",
        "accuracy\n"
      ],
      "execution_count": 112,
      "outputs": [
        {
          "output_type": "execute_result",
          "data": {
            "text/plain": [
              "0.4788732394366197"
            ]
          },
          "metadata": {
            "tags": []
          },
          "execution_count": 112
        }
      ]
    },
    {
      "cell_type": "code",
      "metadata": {
        "id": "bHgthBf5I6b5",
        "colab_type": "code",
        "colab": {}
      },
      "source": [
        "dataset_N = pd.read_csv('Etsy-kids wall art.csv')\n",
        "N = dataset_N.iloc[:, :].values\n",
        "N.shape\n",
        "\n",
        "N = N[N[:,4].argsort()[::-1]]\n",
        "\n",
        "z_N = np.delete(N, [0,1,2], axis=1)\n",
        "from sklearn.preprocessing import LabelEncoder, OneHotEncoder\n",
        "labelencoder_z_N = LabelEncoder()\n",
        "z_N[:, 3] = 1+labelencoder_z.fit_transform(z_N[:, 3])\n"
      ],
      "execution_count": 0,
      "outputs": []
    },
    {
      "cell_type": "code",
      "metadata": {
        "id": "8_MpC1KFOd-H",
        "colab_type": "code",
        "colab": {}
      },
      "source": [
        "y_N = load_lr_model.predict(poly_reg.fit_transform(z_N))\n",
        "y_N = y_N.round(0)\n",
        "y_N = y_N.astype(int)\n",
        "y_N = np.interp(y_N, (y_N.min(), y_N.max()), (+1, +20))\n"
      ],
      "execution_count": 0,
      "outputs": []
    },
    {
      "cell_type": "code",
      "metadata": {
        "id": "i2MjQ6ucPE_2",
        "colab_type": "code",
        "colab": {}
      },
      "source": [
        "# final = np.concatenate((N,y_N),axis=1)\n",
        "N.shape\n",
        "final = np.concatenate((N,y_N[:,None]),axis=1)\n"
      ],
      "execution_count": 0,
      "outputs": []
    },
    {
      "cell_type": "code",
      "metadata": {
        "id": "lxMRakxmPaUg",
        "colab_type": "code",
        "colab": {
          "base_uri": "https://localhost:8080/",
          "height": 1000
        },
        "outputId": "89c4220f-b4ae-484b-d4d0-a7a12e1f407b"
      },
      "source": [
        "final"
      ],
      "execution_count": 116,
      "outputs": [
        {
          "output_type": "execute_result",
          "data": {
            "text/plain": [
              "array([['Heart Nursery Art - Set of Four Heart Prints - Kids Wall Art Girl Bedroom Decor - Heart Girls Decor Heart Pictures - CHOOSE YOUR COLORS',\n",
              "        'https://i.etsystatic.com/5397444/c/1000/794/0/94/il/5eb8d4/2019805655/il_340x270.2019805655_2n1c.jpg',\n",
              "        'https://www.etsy.com/in-en/listing/102602872/heart-nursery-art-set-of-four-heart?ga_order=most_relevant&ga_search_type=all&ga_view_type=gallery&ga_search_query=kids+wall+art&ref=sr_gallery-7-2&organic_search_click=1',\n",
              "        4.9698, 3307, 35.0, 'United States', 1.9096742349457059],\n",
              "       ['Kids Wall Art, Playroom Decor, Neutral Playroom Art, Set of Three Nursery Prints, Alphabet Numbers Set, Kids Tree Print - CHOOSE YOUR COLORS',\n",
              "        'https://i.etsystatic.com/5397444/c/1000/794/0/64/il/c40a68/1956091528/il_340x270.1956091528_1bzc.jpg',\n",
              "        'https://www.etsy.com/in-en/listing/160044177/kids-wall-art-playroom-decor-neutral?ga_order=most_relevant&ga_search_type=all&ga_view_type=gallery&ga_search_query=kids+wall+art&ref=sr_gallery-6-9&organic_search_click=1',\n",
              "        4.9698, 3307, 29.5, 'United States', 1.956564659427443],\n",
              "       ['Nursery Wall Decor - Kids Wall Art - Modern Monogram on Polka dots - Personalized Customizable PRINT - New baby gift - Initial PRINT',\n",
              "        'https://i.etsystatic.com/6816849/d/il/eb5076/1851722917/il_340x270.1851722917_ik5f.jpg?version=0',\n",
              "        'https://www.etsy.com/in-en/listing/123775707/nursery-wall-decor-kids-wall-art-modern?ga_order=most_relevant&ga_search_type=all&ga_view_type=gallery&ga_search_query=kids+wall+art&ref=sr_gallery-5-12&organic_search_click=1&col=1',\n",
              "        4.9767, 3239, 20.0, 'United States', 1.9846989141164857],\n",
              "       ['Baby Nursery Decor Moon and Stars Nursery Quote Prints Look at the stars Kids Wall Art Baby Gifts for Baby Grey and Beige Art',\n",
              "        'https://i.etsystatic.com/6065043/c/1304/1036/105/981/il/fa5be4/2006822441/il_340x270.2006822441_s89b.jpg',\n",
              "        'https://www.etsy.com/in-en/listing/725232475/baby-nursery-decor-moon-and-stars?ga_order=most_relevant&ga_search_type=all&ga_view_type=gallery&ga_search_query=kids+wall+art&ref=sr_gallery-2-1&organic_search_click=1',\n",
              "        5.0, 2653, 21.0, 'United States', 1.9190523198420533],\n",
              "       ['Gender Neutral Nursery Decor Kids Room Decor Kids Wall Art Animal Nursery Art Baby Animal Nursery Art Cute Nursery Decor Nursery Animal Art',\n",
              "        'https://i.etsystatic.com/11812324/d/il/f9c9da/1388897701/il_340x270.1388897701_4ube.jpg?version=0',\n",
              "        'https://www.etsy.com/in-en/listing/498843806/gender-neutral-nursery-decor-kids-room?ga_order=most_relevant&ga_search_type=all&ga_view_type=gallery&ga_search_query=kids+wall+art&ref=sr_gallery-1-5&organic_search_click=1',\n",
              "        4.9756, 2251, 20.05, 'United States', 2.0409674234945703],\n",
              "       [\"Word Nursery Art -- Read Me A Story -- Fox Reads a Book -- Children's Art Print -- Nursery Art -- Kids Wall Art\",\n",
              "        'https://i.etsystatic.com/5602698/d/il/bd3334/1211008078/il_340x270.1211008078_he5n.jpg?version=0',\n",
              "        'https://www.etsy.com/in-en/listing/227426564/word-nursery-art-read-me-a-story-fox?ga_order=most_relevant&ga_search_type=all&ga_view_type=gallery&ga_search_query=kids+wall+art&ref=sr_gallery-5-5&organic_search_click=1',\n",
              "        5.0, 2211, 17.0, 'United States', 1.994076999012833],\n",
              "       ['Elephant Nursery Art - Elephant and Bunny - Set of 3 Prints - Kids Wall Art - Nursery Decor',\n",
              "        'https://i.etsystatic.com/5602698/c/2200/1747/0/83/il/043265/1935307003/il_340x270.1935307003_lrbg.jpg',\n",
              "        'https://www.etsy.com/in-en/listing/184301488/elephant-nursery-art-elephant-and-bunny?ga_order=most_relevant&ga_search_type=all&ga_view_type=gallery&ga_search_query=kids+wall+art&ref=sr_gallery-7-3&organic_search_click=1',\n",
              "        5.0, 2211, 59.0, 'United States', 1.6095755182625864],\n",
              "       [\"Lamb Nursery Art -- I Love You To The Moon And Back -- Nursery Quote -- Star Art --  Nursery Decor -- Children's Art -- Kids Wall Art\",\n",
              "        'https://i.etsystatic.com/5602698/d/il/717d68/1278182343/il_340x270.1278182343_1feq.jpg?version=0',\n",
              "        'https://www.etsy.com/in-en/listing/225221279/lamb-nursery-art-i-love-you-to-the-moon?ga_order=most_relevant&ga_search_type=all&ga_view_type=gallery&ga_search_query=kids+wall+art&ref=sr_gallery-2-12&organic_search_click=1',\n",
              "        5.0, 2211, 17.0, 'United States', 1.994076999012833],\n",
              "       ['Baby Deer Print, DIGITAL DOWNLOAD Nursery Decor, Baby Shower Gift, Kids Poster ,Nursery Print, Animal Print for Nursery, Kids Wall Art Print',\n",
              "        'https://i.etsystatic.com/11661270/c/1401/1114/41/191/il/b8a33c/1979810935/il_340x270.1979810935_lbdm.jpg',\n",
              "        'https://www.etsy.com/in-en/listing/289586385/baby-deer-print-digital-download-nursery?ga_order=most_relevant&ga_search_type=all&ga_view_type=gallery&ga_search_query=kids+wall+art&ref=sr_gallery-2-6&organic_search_click=1',\n",
              "        4.9906, 2023, 6.27, 'United States', 2.0972359328726555],\n",
              "       ['Playroom Decor, Playroom Print, Kids Poster, Nursery Print, Nursery Decor, Dream Big Print, Kids Decor, Kids Wall Art, Nursery Wall Art',\n",
              "        'https://i.etsystatic.com/11270471/d/il/bbeddd/1812911576/il_340x270.1812911576_ret2.jpg?version=1',\n",
              "        'https://www.etsy.com/in-en/listing/677048588/playroom-decor-playroom-print-kids?ga_order=most_relevant&ga_search_type=all&ga_view_type=gallery&ga_search_query=kids+wall+art&ref=sr_gallery-6-11&organic_search_click=1',\n",
              "        4.9971, 1916, 4.72, 'United States', 2.1066140177690027],\n",
              "       ['Nursery Decor, Animal Nursery Prints, Zoo Animal Wall Art, Baby Animal Nursery Art, Watercolor Prints, Baby Room Decor, Kids Wall Art',\n",
              "        'https://i.etsystatic.com/8271236/c/1536/1220/116/58/il/54da64/1731204199/il_340x270.1731204199_bk98.jpg',\n",
              "        'https://www.etsy.com/in-en/listing/474173469/nursery-decor-animal-nursery-prints-zoo?ga_order=most_relevant&ga_search_type=all&ga_view_type=gallery&ga_search_query=kids+wall+art&ref=sr_gallery-3-7&organic_search_click=1&cns=1',\n",
              "        4.9974, 1809, 95.0, 'United States', 1.0],\n",
              "       ['Airplane Nursery Art, Biplane Nursery Print, Kids Wall Art, Plane Print, Big Boy Room Decor, Airplane Watercolor, Playroom Art Print',\n",
              "        'https://i.etsystatic.com/8271236/c/1327/1054/89/245/il/509659/1682578192/il_340x270.1682578192_cz2m.jpg',\n",
              "        'https://www.etsy.com/in-en/listing/621095946/airplane-nursery-art-biplane-nursery?ga_order=most_relevant&ga_search_type=all&ga_view_type=gallery&ga_search_query=kids+wall+art&ref=sr_gallery-3-11&organic_search_click=1',\n",
              "        4.9974, 1809, 19.5, 'United States', 2.031589338598223],\n",
              "       ['Girl holding hearts balloon kids wall art,Baby girl nursery wall art print,toddler girl bedroom decor',\n",
              "        'https://i.etsystatic.com/5672831/d/il/fc7e63/291342436/il_340x270.291342436.jpg?version=1',\n",
              "        'https://www.etsy.com/in-en/listing/79098606/girl-holding-hearts-balloon-kids-wall?ga_order=most_relevant&ga_search_type=all&ga_view_type=gallery&ga_search_query=kids+wall+art&ref=sr_gallery-5-9&organic_search_click=1&col=1',\n",
              "        5.0, 1621, 17.0, 'United States', 2.050345508390918],\n",
              "       ['Hello Bonjour Hola Wall Art, Kids Wall Art, Nursery Art, Home Decor, Home Wall Art, Apartment Art, Apartment Print, Custom Color - 11x14',\n",
              "        'https://i.etsystatic.com/6709469/d/il/229a05/469559603/il_340x270.469559603_2zdi.jpg?version=0',\n",
              "        'https://www.etsy.com/in-en/listing/154253814/hello-bonjour-hola-wall-art-kids-wall?ga_order=most_relevant&ga_search_type=all&ga_view_type=gallery&ga_search_query=kids+wall+art&ref=sr_gallery-4-3&organic_search_click=1',\n",
              "        4.8901, 1306, 10.0, 'United States', 2.144126357354393],\n",
              "       ['Elephant Painting - Canvas Nursery Art - Gray - Nursery Decor - Watercolor Elephant - Print - Canvas Artwork - Kids Wall Art - E2101',\n",
              "        'https://i.etsystatic.com/9205717/d/il/94d1a5/621739385/il_340x270.621739385_9116.jpg?version=0',\n",
              "        'https://www.etsy.com/in-en/listing/194897494/elephant-painting-canvas-nursery-art?ga_order=most_relevant&ga_search_type=all&ga_view_type=gallery&ga_search_query=kids+wall+art&ref=sr_gallery-4-8&organic_search_click=1&col=1',\n",
              "        4.9437, 1057, 49.0, 'United States', 2.125370187561698],\n",
              "       ['ALL my prints DIGITAL file Art for Children Kids Wall Art Baby Girl Room Decor 8\" x 10\" DIGITAL image',\n",
              "        'https://i.etsystatic.com/6762438/d/il/4158f7/361195524/il_340x270.361195524_s40u.jpg?version=0',\n",
              "        'https://www.etsy.com/in-en/listing/105652341/all-my-prints-digital-file-art-for?ga_order=most_relevant&ga_search_type=all&ga_view_type=gallery&ga_search_query=kids+wall+art&ref=sr_gallery-7-1&organic_search_click=1&pro=1&frs=1',\n",
              "        4.725, 616, 6.13, 'United States', 2.1628825271470875],\n",
              "       ['Childrens Art Kids Wall Art Baby Girl Room Decor Baby Girl Nursery Kids Room Kids Art Prints set of 3 Owls Giraffe Alphabet Pink Blue',\n",
              "        'https://i.etsystatic.com/6762438/d/il/a20987/422537080/il_340x270.422537080_topy.jpg?version=0',\n",
              "        'https://www.etsy.com/in-en/listing/122277631/childrens-art-kids-wall-art-baby-girl?ga_order=most_relevant&ga_search_type=all&ga_view_type=gallery&ga_search_query=kids+wall+art&ref=sr_gallery-4-4&organic_search_click=1&pro=1',\n",
              "        4.725, 616, 22.47, 'United States', 2.1535044422507403],\n",
              "       ['Printable Kids Wall Art, Letter Print Digital, Initial Print Nursery, Kids Poster Printable, Nursery Art, Colourful Wall Art Kids Room Decor',\n",
              "        'https://i.etsystatic.com/10608069/d/il/c81bf8/1824921360/il_340x270.1824921360_c4eb.jpg?version=0',\n",
              "        'https://www.etsy.com/in-en/listing/679913116/printable-kids-wall-art-letter-print?ga_order=most_relevant&ga_search_type=all&ga_view_type=gallery&ga_search_query=kids+wall+art&ref=sr_gallery-7-5&organic_search_click=1',\n",
              "        5.0, 588, 7.08, 'United States', 2.1535044422507403],\n",
              "       ['Bunny Nursery Print, Kids Wall Art, Printable Nursery Art, Girls Bedroom Decor, Animal Print For Nursery, Rabbit Wall Art For Girl Room',\n",
              "        'https://i.etsystatic.com/10608069/d/il/700b50/1473870314/il_340x270.1473870314_l35y.jpg?version=0',\n",
              "        'https://www.etsy.com/in-en/listing/525538223/bunny-nursery-print-kids-wall-art?ga_order=most_relevant&ga_search_type=all&ga_view_type=gallery&ga_search_query=kids+wall+art&ref=sr_gallery-5-1&organic_search_click=1',\n",
              "        5.0, 588, 7.08, 'United States', 2.1535044422507403],\n",
              "       ['Custom Dog Paw Print, Art Print, Dog Lover Gift, Pet Memorial, Animal Kids Wall Art Watercolor Painting by Lisa Whitehouse',\n",
              "        'https://i.etsystatic.com/9109209/d/il/270f84/1581887897/il_340x270.1581887897_lnha.jpg?version=0',\n",
              "        'https://www.etsy.com/in-en/listing/608311432/custom-dog-paw-print-art-print-dog-lover?ga_order=most_relevant&ga_search_type=all&ga_view_type=gallery&ga_search_query=kids+wall+art&ref=sr_gallery-7-4&organic_search_click=1',\n",
              "        4.9886, 506, 16.59, 'United States', 2.1628825271470875],\n",
              "       ['Kids wall Art Set, Cloud Print, Nursery Print Set, Baby Room Decor - Colourful Weather',\n",
              "        'https://i.etsystatic.com/5889258/d/il/2a3cf3/1942288349/il_340x270.1942288349_efkg.jpg?version=0',\n",
              "        'https://www.etsy.com/in-en/listing/710348667/kids-wall-art-set-cloud-print-nursery?ga_order=most_relevant&ga_search_type=all&ga_view_type=gallery&ga_search_query=kids+wall+art&ref=sr_gallery-4-5&organic_search_click=1&frs=1',\n",
              "        4.9643, 414, 22.52, 'United States', 2.172260612043435],\n",
              "       ['Nursery Decor, Nursery Wall Art, Woodland Animal, Woodland Nursery, Girls Prints, Kids Decor, Kids Wall Art, Girls Room Decor, Nursery Decor',\n",
              "        'https://i.etsystatic.com/11487801/c/1588/1261/33/66/il/235f10/1779513622/il_340x270.1779513622_jjc0.jpg',\n",
              "        'https://www.etsy.com/in-en/listing/634690397/nursery-decor-nursery-wall-art-woodland?ga_order=most_relevant&ga_search_type=all&ga_view_type=gallery&ga_search_query=kids+wall+art&ref=sr_gallery-6-7&organic_search_click=1',\n",
              "        4.8952, 406, 12.59, 'United States', 2.172260612043435],\n",
              "       ['Nursery Prints, Boys Scandi Animal Wall Art Prints, Set of 3 Prints, Baby Name Print, Lion, Bear, Customised, Boys Room Decor, Kids Wall Art',\n",
              "        'https://i.etsystatic.com/11487801/c/2169/1722/0/18/il/91abbe/1943714535/il_340x270.1943714535_oe7r.jpg',\n",
              "        'https://www.etsy.com/in-en/listing/710687687/nursery-prints-boys-scandi-animal-wall?ga_order=most_relevant&ga_search_type=all&ga_view_type=gallery&ga_search_query=kids+wall+art&ref=sr_gallery-2-5&organic_search_click=1&cns=1',\n",
              "        4.8952, 406, 25.17, 'United States', 2.172260612043435],\n",
              "       ['I AM ME Print  (Puppy Boy) - Personalised Kids well being print - Personalised Kids Wall Art',\n",
              "        'https://i.etsystatic.com/11432644/d/il/846613/1989820586/il_340x270.1989820586_kibc.jpg?version=0',\n",
              "        'https://www.etsy.com/in-en/listing/718431386/i-am-me-print-puppy-boy-personalised?ga_order=most_relevant&ga_search_type=all&ga_view_type=gallery&ga_search_query=kids+wall+art&ref=sr_gallery-7-12&organic_search_click=1',\n",
              "        4.8857, 371, 13.99, 'United States', 2.172260612043435],\n",
              "       ['Kids Wall Art- The wheels on the bus',\n",
              "        'https://i.etsystatic.com/5411206/d/il/cdaa80/482695172/il_340x270.482695172_bmka.jpg?version=0',\n",
              "        'https://www.etsy.com/in-en/listing/157538725/kids-wall-art-the-wheels-on-the-bus?ga_order=most_relevant&ga_search_type=all&ga_view_type=gallery&ga_search_query=kids+wall+art&ref=sr_gallery-2-7&organic_search_click=1',\n",
              "        5.0, 288, 12.0, 'United States', 2.1816386969397827],\n",
              "       ['Kids Wall Art- I am kind I am brave I am smart|nursery decor| inspirational decor| typography art',\n",
              "        'https://i.etsystatic.com/5411206/d/il/7bd093/731727258/il_340x270.731727258_2c2y.jpg?version=0',\n",
              "        'https://www.etsy.com/in-en/listing/223687888/kids-wall-art-i-am-kind-i-am-brave-i-am?ga_order=most_relevant&ga_search_type=all&ga_view_type=gallery&ga_search_query=kids+wall+art&ref=sr_gallery-1-3&organic_search_click=1&bes=1',\n",
              "        5.0, 288, 12.0, 'United States', 2.1816386969397827],\n",
              "       ['Kids Wall Art- The wheels on the bus',\n",
              "        'https://i.etsystatic.com/5411206/d/il/cdaa80/482695172/il_340x270.482695172_bmka.jpg?version=0',\n",
              "        'https://www.etsy.com/in-en/listing/157538725/kids-wall-art-the-wheels-on-the-bus?ga_order=most_relevant&ga_search_type=all&ga_view_type=gallery&ga_search_query=kids+wall+art&ref=sr_gallery-4-11&organic_search_click=1',\n",
              "        5.0, 288, 12.0, 'United States', 2.1816386969397827],\n",
              "       ['Sun Poster, Yellow Nursery Print, Kids Room Decor, Playroom Poster, Sun Print Wall Art, Yellow Printable Art Kids Wall Art DIGITAL DOWNLOAD',\n",
              "        'https://i.etsystatic.com/11777602/d/il/4d14f4/1487423511/il_340x270.1487423511_95vt.jpg?version=1',\n",
              "        'https://www.etsy.com/in-en/listing/583349028/sun-poster-yellow-nursery-print-kids?ga_order=most_relevant&ga_search_type=all&ga_view_type=gallery&ga_search_query=kids+wall+art&ref=sr_gallery-1-7&organic_search_click=1&bes=1',\n",
              "        4.9868, 264, 6.64, 'United States', 2.1816386969397827],\n",
              "       ['Woodland Nursery wall art, Nursery decor, Nursery prints, Woodland prints, Animal nursery, Forest animals, Kids wall art, Neutral Nursery',\n",
              "        'https://i.etsystatic.com/9235423/c/2631/2091/168/101/il/641966/1952136146/il_340x270.1952136146_kpm3.jpg',\n",
              "        'https://www.etsy.com/in-en/listing/723565153/woodland-nursery-wall-art-nursery-decor?ga_order=most_relevant&ga_search_type=all&ga_view_type=gallery&ga_search_query=kids+wall+art&ref=sr_gallery-1-9&organic_search_click=1&frs=1',\n",
              "        5.0, 261, 14.75, 'United States', 2.1816386969397827],\n",
              "       ['Nursery decor boy, Little man cave, Nursery wall art mountains, Nursery prints boy, Kids wall art, Nursery art, Kids room decor, Bear print',\n",
              "        'https://i.etsystatic.com/9235423/d/il/52c634/1926762318/il_340x270.1926762318_jtrr.jpg?version=0',\n",
              "        'https://www.etsy.com/in-en/listing/686328789/nursery-decor-boy-little-man-cave?ga_order=most_relevant&ga_search_type=all&ga_view_type=gallery&ga_search_query=kids+wall+art&ref=sr_gallery-5-3&organic_search_click=1&frs=1',\n",
              "        5.0, 261, 31.77, 'United States', 2.1816386969397827],\n",
              "       [\"Kids Wall Art, Children's Wall Art, Nursery Set of 4 Prints, Sunshine Wall Art, Raincloud Print, Unisex Decor, Girls Room, Boys Room, Sale\",\n",
              "        'https://i.etsystatic.com/17259186/d/il/9f1ae9/1944238804/il_340x270.1944238804_r3c8.jpg?version=0',\n",
              "        'https://www.etsy.com/in-en/listing/707883880/kids-wall-art-childrens-wall-art-nursery?ga_order=most_relevant&ga_search_type=all&ga_view_type=gallery&ga_search_query=kids+wall+art&ref=sr_gallery-2-8&organic_search_click=1&pro=1',\n",
              "        4.9368, 238, 10.51, 'United States', 2.1816386969397827],\n",
              "       ['Dinosaur world map, Dinosaur nursery, Kids world map print, Watercolor map with dinosaurs, Gender neutral art, Large poster, Kid wall art',\n",
              "        'https://i.etsystatic.com/14540121/d/il/3941df/1989147480/il_340x270.1989147480_inpt.jpg?version=0',\n",
              "        'https://www.etsy.com/in-en/listing/682274581/dinosaur-world-map-dinosaur-nursery-kids?ga_order=most_relevant&ga_search_type=all&ga_view_type=gallery&ga_search_query=kids+wall+art&ref=sr_gallery-1-4&organic_search_click=1&bes=1',\n",
              "        4.9943, 237, 13.39, 'United States', 2.1910167818361304],\n",
              "       ['Animal world map, Woodland nursery, Kids world map print, Watercolor map with animals, Gender neutral art, Large poster, Kid wall art',\n",
              "        'https://i.etsystatic.com/14540121/d/il/a8dd46/2017306065/il_340x270.2017306065_i7bu.jpg?version=0',\n",
              "        'https://www.etsy.com/in-en/listing/612404865/animal-world-map-woodland-nursery-kids?ga_order=most_relevant&ga_search_type=all&ga_view_type=gallery&ga_search_query=kids+wall+art&ref=sr_gallery-1-8&organic_search_click=1',\n",
              "        4.9943, 236, 13.39, 'United States', 2.1910167818361304],\n",
              "       ['Alphabet Nursery Print - Kids Wall Art - Nursery Wall Art - Baby Girl Nursery - Printable Nursery Art- Kids Room - Printable Art',\n",
              "        'https://i.etsystatic.com/9949520/c/1096/871/201/126/il/acd900/1197023167/il_340x270.1197023167_8fai.jpg',\n",
              "        'https://www.etsy.com/in-en/listing/514572931/alphabet-nursery-print-kids-wall-art?ga_order=most_relevant&ga_search_type=all&ga_view_type=gallery&ga_search_query=kids+wall+art&ref=sr_gallery-6-3&organic_search_click=1',\n",
              "        4.95, 230, 4.43, 'United States', 2.1910167818361304],\n",
              "       ['Woodland Animals, Animal Nursery Prints, Kids Room Decor, Baby Shower Gift, kids Wall Art, Woodland Nursery, Bear Print, Animal Decor',\n",
              "        'https://i.etsystatic.com/9260505/d/il/8f9dc9/1839090241/il_340x270.1839090241_jomu.jpg?version=0',\n",
              "        'https://www.etsy.com/in-en/listing/639151533/woodland-animals-animal-nursery-prints?ga_order=most_relevant&ga_search_type=all&ga_view_type=gallery&ga_search_query=kids+wall+art&ref=sr_gallery-3-1&organic_search_click=1&frs=1',\n",
              "        4.9649, 216, 20.94, 'United States', 2.1910167818361304],\n",
              "       ['Nursery Print, Kids Wall Art, Nursery Decor, Sunshine Print, Prints for Kids, Nursery Wall Art, Neutral Nursery, Modern Nursery',\n",
              "        'https://i.etsystatic.com/9260505/d/il/edb65f/1987405368/il_340x270.1987405368_f02x.jpg?version=0',\n",
              "        'https://www.etsy.com/in-en/listing/731725199/nursery-print-kids-wall-art-nursery?ga_order=most_relevant&ga_search_type=all&ga_view_type=gallery&ga_search_query=kids+wall+art&ref=sr_gallery-1-6&organic_search_click=1&frs=1',\n",
              "        4.9649, 216, 20.94, 'United States', 2.1910167818361304],\n",
              "       [\"Rainbow Wall Art, Kids Room Decor, Gender Neutral Nursery Prints, Girls Wall Art, Children's Art, Kids Wall Art, Baby Shower Gift\",\n",
              "        'https://i.etsystatic.com/9260505/d/il/d0c1f0/1790817842/il_340x270.1790817842_4md6.jpg?version=0',\n",
              "        'https://www.etsy.com/in-en/listing/665745748/rainbow-wall-art-kids-room-decor-gender?ga_order=most_relevant&ga_search_type=all&ga_view_type=gallery&ga_search_query=kids+wall+art&ref=sr_gallery-1-2&organic_search_click=1&frs=1',\n",
              "        4.9649, 216, 20.94, 'United States', 2.1910167818361304],\n",
              "       ['Sunshine Nursery Print, Digital Download, Printable Wall Art, Neutral Nursery Decor, Typography Print, Kids Wall Art, Neutral Wall Art',\n",
              "        'https://i.etsystatic.com/9260505/d/il/753c69/1990762450/il_340x270.1990762450_qxl0.jpg?version=0',\n",
              "        'https://www.etsy.com/in-en/listing/718655336/sunshine-nursery-print-digital-download?ga_order=most_relevant&ga_search_type=all&ga_view_type=gallery&ga_search_query=kids+wall+art&ref=sr_gallery-1-11&organic_search_click=1',\n",
              "        4.9643, 215, 7.84, 'United States', 2.1910167818361304],\n",
              "       ['BOYS RULE PRINT, Kids Room, wall art, baby boys nursery, playroom printable, wall art decor, kids wall art, Art Print, Boys room, Boys rule',\n",
              "        'https://i.etsystatic.com/7257453/d/il/ed720d/1291781268/il_340x270.1291781268_hhr0.jpg?version=0',\n",
              "        'https://www.etsy.com/in-en/listing/556727763/boys-rule-print-kids-room-wall-art-baby?ga_order=most_relevant&ga_search_type=all&ga_view_type=gallery&ga_search_query=kids+wall+art&ref=sr_gallery-6-2&organic_search_click=1',\n",
              "        4.9907, 211, 6.38, 'United States', 2.1910167818361304],\n",
              "       ['Teepee Wall Art, Nursery Wall Art, Kids Wall Art, Word Art, XOXO, Love,  Digital Print Wall Art',\n",
              "        'https://i.etsystatic.com/12075413/d/il/dc3977/904809359/il_340x270.904809359_m347.jpg?version=0',\n",
              "        'https://www.etsy.com/in-en/listing/264214045/teepee-wall-art-nursery-wall-art-kids?ga_order=most_relevant&ga_search_type=all&ga_view_type=gallery&ga_search_query=kids+wall+art&ref=sr_gallery-5-6&organic_search_click=1',\n",
              "        4.95, 184, 2.98, 'United States', 2.1910167818361304],\n",
              "       ['Nursery Decor Download, Printable Alphabet Art, Colorful Nursery Print, Kids Wall Art, Gender Neutral, Kids Room Decor, Instant Download',\n",
              "        'https://i.etsystatic.com/8510944/d/il/6c5735/1987146791/il_340x270.1987146791_apqj.jpg?version=0',\n",
              "        'https://www.etsy.com/in-en/listing/212080662/nursery-decor-download-printable?ga_order=most_relevant&ga_search_type=all&ga_view_type=gallery&ga_search_query=kids+wall+art&ref=sr_gallery-4-12&organic_search_click=1',\n",
              "        4.9333, 163, 5.9, 'United States', 2.1910167818361304],\n",
              "       ['Numbers and Alphabet, Nursery Print Set of 2 Download, Printable Kids Wall Art, Nursery Decor, Neutral Nursery Decor, Educational Posters',\n",
              "        'https://i.etsystatic.com/8510944/c/2314/1839/79/98/il/f42c61/1987407427/il_340x270.1987407427_qtuy.jpg',\n",
              "        'https://www.etsy.com/in-en/listing/720765553/numbers-and-alphabet-nursery-print-set?ga_order=most_relevant&ga_search_type=all&ga_view_type=gallery&ga_search_query=kids+wall+art&ref=sr_gallery-4-2&organic_search_click=1',\n",
              "        4.9333, 163, 11.8, 'United States', 2.1910167818361304],\n",
              "       ['Printable Nursery Art, Alphabet Poster, Nursery Decor Download, Nursery Print for Baby Boy, Kids Wall Art, Alphabet Print, Navy Blue',\n",
              "        'https://i.etsystatic.com/8510944/d/il/328dd9/1939617104/il_340x270.1939617104_q9ho.jpg?version=0',\n",
              "        'https://www.etsy.com/in-en/listing/212822673/printable-nursery-art-alphabet-poster?ga_order=most_relevant&ga_search_type=all&ga_view_type=gallery&ga_search_query=kids+wall+art&ref=sr_gallery-7-7&organic_search_click=1',\n",
              "        4.9333, 163, 5.9, 'United States', 2.1910167818361304],\n",
              "       ['You Are My Sunshine My Only Sunshine, Yellow Nursery Print, Kids Room Decor, Yellow Nursery Decor, Baby Gift, Kids Wall Art, Unisex Nursery',\n",
              "        'https://i.etsystatic.com/8510944/d/il/ec03f7/1987126581/il_340x270.1987126581_dcnf.jpg?version=0',\n",
              "        'https://www.etsy.com/in-en/listing/706833460/you-are-my-sunshine-my-only-sunshine?ga_order=most_relevant&ga_search_type=all&ga_view_type=gallery&ga_search_query=kids+wall+art&ref=sr_gallery-6-10&organic_search_click=1',\n",
              "        4.9333, 163, 14.0, 'United States', 2.1910167818361304],\n",
              "       ['Dream Big, Downloadable Prints, Nursery Decor, Kids Wall Art, Bedroom Decor, Girls Room Poster, Boys Room Print, Baby Shower Gift, Printable',\n",
              "        'https://i.etsystatic.com/13891034/d/il/72d027/1868427799/il_340x270.1868427799_cv53.jpg?version=0',\n",
              "        'https://www.etsy.com/in-en/listing/598619750/dream-big-downloadable-prints-nursery?ga_order=most_relevant&ga_search_type=all&ga_view_type=gallery&ga_search_query=kids+wall+art&ref=sr_gallery-5-10&organic_search_click=1&pro=1',\n",
              "        4.9916, 146, 4.39, 'United States', 2.1910167818361304],\n",
              "       ['Kids Typography Printable Art Poster, Children Quotes Prints, Monochrome Playroom Decor, Kids Wall Art, Play Outside *Instant Download*',\n",
              "        'https://i.etsystatic.com/12486633/d/il/cddf8c/2001267363/il_340x270.2001267363_nmut.jpg?version=0',\n",
              "        'https://www.etsy.com/in-en/listing/709815050/kids-typography-printable-art-poster?ga_order=most_relevant&ga_search_type=all&ga_view_type=gallery&ga_search_query=kids+wall+art&ref=sr_gallery-3-4&organic_search_click=1&pro=1',\n",
              "        5.0, 143, 5.25, 'United States', 2.1910167818361304],\n",
              "       [\"Don't Grow Up Its A Trap Printable Art, Monochrome Nursery Prints, Kids Wall Art, Nursery Decor Art, Kids Quote Poster *INSTANT DOWNLOAD*\",\n",
              "        'https://i.etsystatic.com/12486633/d/il/d45afc/1952599080/il_340x270.1952599080_smc2.jpg?version=0',\n",
              "        'https://www.etsy.com/in-en/listing/624881574/dont-grow-up-its-a-trap-printable-art?ga_order=most_relevant&ga_search_type=all&ga_view_type=gallery&ga_search_query=kids+wall+art&ref=sr_gallery-7-8&organic_search_click=1&pro=1',\n",
              "        5.0, 143, 5.25, 'United States', 2.1910167818361304],\n",
              "       ['Be Silly Be Honest Be Kind Printable Art, Monochrome Nursery Decor, Nursery Quote Prints, Kids Wall Art, Playroom Decor *Instant Download*',\n",
              "        'https://i.etsystatic.com/12486633/d/il/3dc0e9/1978055067/il_340x270.1978055067_qx8s.jpg?version=0',\n",
              "        'https://www.etsy.com/in-en/listing/718644889/be-silly-be-honest-be-kind-printable-art?ga_order=most_relevant&ga_search_type=all&ga_view_type=gallery&ga_search_query=kids+wall+art&ref=sr_gallery-1-12&organic_search_click=1&pro=1',\n",
              "        5.0, 143, 5.25, 'United States', 2.1910167818361304],\n",
              "       ['Animal Nursery Prints Wall Art Cat Poster Watercolor Print Printable Art Kids Wall Art Cat Print Animal Wall Art Digital Download',\n",
              "        'https://i.etsystatic.com/10956966/c/3000/2382/0/88/il/9d12a9/1647297747/il_340x270.1647297747_sy6m.jpg',\n",
              "        'https://www.etsy.com/in-en/listing/639005341/animal-nursery-prints-wall-art-cat?ga_order=most_relevant&ga_search_type=all&ga_view_type=gallery&ga_search_query=kids+wall+art&ref=sr_gallery-5-8&organic_search_click=1',\n",
              "        4.7955, 142, 8.6, 'United States', 2.1910167818361304],\n",
              "       ['Always Be Yourself Unless You Can Be a Dinosaur Print, Dinosaur Decor, Kids Room Decor, Kids Wall Art, Nursery Wall Decor',\n",
              "        'https://i.etsystatic.com/14069412/c/1644/1306/214/317/il/79cb30/1739053168/il_340x270.1739053168_dp7s.jpg',\n",
              "        'https://www.etsy.com/in-en/listing/600456923/always-be-yourself-unless-you-can-be-a?ga_order=most_relevant&ga_search_type=all&ga_view_type=gallery&ga_search_query=kids+wall+art&ref=sr_gallery-2-4&organic_search_click=1',\n",
              "        4.9821, 123, 5.9, 'United States', 2.200394866732478],\n",
              "       ['Baby Decor, Kids Art, Kids Prints, Childrens Decor, Baby Art Prints, Kids Wall Art, Baby Room Decor, Baby Nursery Wall Art, Child Artwork',\n",
              "        'https://i.etsystatic.com/15100492/d/il/e79b99/1859588484/il_340x270.1859588484_oifo.jpg?version=0',\n",
              "        'https://www.etsy.com/in-en/listing/688217472/baby-decor-kids-art-kids-prints?ga_order=most_relevant&ga_search_type=all&ga_view_type=gallery&ga_search_query=kids+wall+art&ref=sr_gallery-3-8&organic_search_click=1',\n",
              "        4.9865, 121, 23.01, 'United States', 2.200394866732478],\n",
              "       ['Baby Decor, Kids Art, Kids Prints, Childrens Decor, Baby Art Prints, Kids Wall Art, Baby Room Decor, Baby Nursery Wall Art, Child Artwork',\n",
              "        'https://i.etsystatic.com/15100492/d/il/76b3ae/1797752747/il_340x270.1797752747_npvj.jpg?version=0',\n",
              "        'https://www.etsy.com/in-en/listing/676081969/baby-decor-kids-art-kids-prints?ga_order=most_relevant&ga_search_type=all&ga_view_type=gallery&ga_search_query=kids+wall+art&ref=sr_gallery-3-10&organic_search_click=1',\n",
              "        4.9865, 121, 23.01, 'United States', 2.200394866732478],\n",
              "       ['kid you got this, kids wall art,  kids room décor, kids quote, inspirational kids print, monochrome kids art, inspirational childrens art',\n",
              "        'https://i.etsystatic.com/17134326/d/il/f157b8/2033352153/il_340x270.2033352153_8lu3.jpg?version=0',\n",
              "        'https://www.etsy.com/in-en/listing/604826151/kid-you-got-this-kids-wall-art-kids-room?ga_order=most_relevant&ga_search_type=all&ga_view_type=gallery&ga_search_query=kids+wall+art&ref=sr_gallery-1-10&organic_search_click=1&pro=1',\n",
              "        4.9901, 115, 4.08, 'United States', 2.200394866732478],\n",
              "       ['Happy Manners Card Set B of 14 - Good Manners Learning & Educational Flash Cards // Kids Wall Art Children Room Decor',\n",
              "        'https://i.etsystatic.com/6031194/d/il/d54e30/751880350/il_340x270.751880350_m5lq.jpg?version=0',\n",
              "        'https://www.etsy.com/in-en/listing/110511837/happy-manners-card-set-b-of-14-good?ga_order=most_relevant&ga_search_type=all&ga_view_type=gallery&ga_search_query=kids+wall+art&ref=sr_gallery-7-10&organic_search_click=1',\n",
              "        5.0, 115, 12.5, 'United States', 2.200394866732478],\n",
              "       ['Farmall - Red Tractor Photo - Farm Photography - Red Tractor Wall Art  - Tractor Print - Kids Wall Art - Color Photograph - Farmhouse Decor',\n",
              "        'https://i.etsystatic.com/5713744/d/il/8b02d6/490486693/il_340x270.490486693_42se.jpg?version=2',\n",
              "        'https://www.etsy.com/in-en/listing/96793047/farmall-red-tractor-photo-farm?ga_order=most_relevant&ga_search_type=all&ga_view_type=gallery&ga_search_query=kids+wall+art&ref=sr_gallery-4-7&organic_search_click=1&sca=1',\n",
              "        5.0, 105, 33.0, 'United States', 2.200394866732478],\n",
              "       ['personalised illustration, sister print, custom kids wall art, modern kids room, personalized kids print, unframed print',\n",
              "        'https://i.etsystatic.com/12728356/c/961/764/287/332/il/518b69/988095154/il_340x270.988095154_bnsc.jpg',\n",
              "        'https://www.etsy.com/in-en/listing/385575204/personalised-illustration-sister-print?ga_order=most_relevant&ga_search_type=all&ga_view_type=gallery&ga_search_query=kids+wall+art&ref=sr_gallery-3-9&organic_search_click=1',\n",
              "        5.0, 100, 22.7, 'United States', 2.200394866732478],\n",
              "       ['kids room decor, dinosaur, kids wall art, printable, digital download, nursery decor, nursery, instant download, nursery wall art, alphabet',\n",
              "        'https://i.etsystatic.com/17070411/c/2350/1866/29/306/il/32e77f/1559713009/il_340x270.1559713009_n8dt.jpg',\n",
              "        'https://www.etsy.com/in-en/listing/583742304/kids-room-decor-dinosaur-kids-wall-art?ga_order=most_relevant&ga_search_type=all&ga_view_type=gallery&ga_search_query=kids+wall+art&ref=sr_gallery-2-9&organic_search_click=1',\n",
              "        5.0, 69, 8.86, 'United States', 2.200394866732478],\n",
              "       ['Superhero Wall Art, Superhero Prints, Boys Room, Nursery Decor, Superhero Poster, Superhero Art, Kid Wall Art, Set of 8 Prints',\n",
              "        'https://i.etsystatic.com/10844248/d/il/8addf8/1200016491/il_340x270.1200016491_9rt1.jpg?version=0',\n",
              "        'https://www.etsy.com/in-en/listing/502085820/superhero-wall-art-superhero-prints-boys?ga_order=most_relevant&ga_search_type=all&ga_view_type=gallery&ga_search_query=kids+wall+art&ref=sr_gallery-2-10&organic_search_click=1',\n",
              "        5.0, 60, 30.0, 'United States', 2.200394866732478],\n",
              "       ['Dog Nursery Wall Art, Dalmatian Nursery Print, Printable Kids Wall Art, Scandinavian Nursery Decor, Digital Download Art, Baby Shower Gift',\n",
              "        'https://i.etsystatic.com/13135025/c/909/721/53/141/il/7449e1/1406473347/il_340x270.1406473347_nzlr.jpg',\n",
              "        'https://www.etsy.com/in-en/listing/520977174/dog-nursery-wall-art-dalmatian-nursery?ga_order=most_relevant&ga_search_type=all&ga_view_type=gallery&ga_search_query=kids+wall+art&ref=sr_gallery-5-2&organic_search_click=1',\n",
              "        4.9677, 58, 7.4, 'United States', 2.200394866732478],\n",
              "       ['Set of 3 Space Wall Art, Digital Download, Kids Outer Space Decor, Space Wall Art, Printable Wall Art, Kids Wall Art, Space Themed Nursery',\n",
              "        'https://i.etsystatic.com/15988185/d/il/3e4db4/1970127378/il_340x270.1970127378_iwy1.jpg?version=0',\n",
              "        'https://www.etsy.com/in-en/listing/713866002/set-of-3-space-wall-art-digital-download?ga_order=most_relevant&ga_search_type=all&ga_view_type=gallery&ga_search_query=kids+wall+art&ref=sr_gallery-4-10&organic_search_click=1',\n",
              "        4.975, 54, 9.23, 'United States', 2.200394866732478],\n",
              "       ['Set of 3 Space Wall Art, Digital Download, Kids Outer Space Decor, Space Wall Art, Printable Wall Art, Kids Wall Art, Space Themed Nursery',\n",
              "        'https://i.etsystatic.com/15988185/d/il/3e4db4/1970127378/il_340x270.1970127378_iwy1.jpg?version=0',\n",
              "        'https://www.etsy.com/in-en/listing/713866002/set-of-3-space-wall-art-digital-download?ga_order=most_relevant&ga_search_type=all&ga_view_type=gallery&ga_search_query=kids+wall+art&ref=sr_gallery-3-5&organic_search_click=1',\n",
              "        4.975, 54, 9.23, 'United States', 2.200394866732478],\n",
              "       ['Lobster Nursery Print, Printable Nursery Art, Nautical Nursery Print, Kids Wall Art, Watercolor Print for Kids, Art Digital Download Print',\n",
              "        'https://i.etsystatic.com/13440442/d/il/77d6ed/1146849498/il_340x270.1146849498_au3r.jpg?version=0',\n",
              "        'https://www.etsy.com/in-en/listing/513430499/lobster-nursery-print-printable-nursery?ga_order=most_relevant&ga_search_type=all&ga_view_type=gallery&ga_search_query=kids+wall+art&ref=sr_gallery-7-9&organic_search_click=1',\n",
              "        5.0, 53, 5.9, 'United States', 2.200394866732478],\n",
              "       ['The kids are all right print Nursery wall art, Type art print Nursery print, Wall art print Quote home decor, Kids wall art Typography print',\n",
              "        'https://i.etsystatic.com/14262101/c/1415/1123/77/255/il/5b8da8/1842703413/il_340x270.1842703413_8s4k.jpg',\n",
              "        'https://www.etsy.com/in-en/listing/672843670/the-kids-are-all-right-print-nursery?ga_order=most_relevant&ga_search_type=all&ga_view_type=gallery&ga_search_query=kids+wall+art&ref=sr_gallery-6-8&organic_search_click=1',\n",
              "        4.9286, 40, 7.85, 'United States', 2.200394866732478],\n",
              "       ['Decorative Mask, Living Room Wall Decor, Pop Art, Wood Wall Hanging, Modern Wall Decor, Kids Wall Art, Urban Art, 3D Wall Art, African Mask',\n",
              "        'https://i.etsystatic.com/10135848/c/813/645/85/181/il/f707d7/1431176997/il_340x270.1431176997_1rho.jpg',\n",
              "        'https://www.etsy.com/in-en/listing/239383727/decorative-mask-living-room-wall-decor?ga_order=most_relevant&ga_search_type=all&ga_view_type=gallery&ga_search_query=kids+wall+art&ref=sr_gallery-7-11&organic_search_click=1&frs=1',\n",
              "        5.0, 39, 204.0, 'United States', 20.0],\n",
              "       ['Pastel Nursery Decor - Rainbow Blush - Abstract Rainbow Print - Gender Neutral Nursery - Neutral Rainbow Art - Boho Nursery - Kids Wall Art',\n",
              "        'https://i.etsystatic.com/16087812/c/1692/1345/462/245/il/77cdc9/1981648837/il_340x270.1981648837_4w31.jpg',\n",
              "        'https://www.etsy.com/in-en/listing/719441063/pastel-nursery-decor-rainbow-blush?ga_order=most_relevant&ga_search_type=all&ga_view_type=gallery&ga_search_query=kids+wall+art&ref=sr_gallery-3-2&organic_search_click=1&pro=1&frs=1',\n",
              "        5.0, 29, 19.14, 'United States', 2.209772951628825],\n",
              "       ['Set of 2 Rainbow Print, Somewhere over the rainbow, Nursery Room Decor, Girls Room,Kids Wall Art,Nursery Child Prints, Home Prints,Printable',\n",
              "        'https://i.etsystatic.com/18892663/d/il/357775/2018884337/il_340x270.2018884337_qfxd.jpg?version=0',\n",
              "        'https://www.etsy.com/in-en/listing/714144372/set-of-2-rainbow-print-somewhere-over?ga_order=most_relevant&ga_search_type=all&ga_view_type=gallery&ga_search_query=kids+wall+art&ref=sr_gallery-4-6&organic_search_click=1&pro=1',\n",
              "        4.95, 20, 8.87, 'United States', 2.209772951628825],\n",
              "       ['Dolphins Print, Watercolour Animal,Nursery Room Decor,Boys Room Poster,Kids Wall Art,Nursery Decor,Nursery Child Toddler Prints, Printable',\n",
              "        'https://i.etsystatic.com/18892663/c/3000/2384/0/615/il/e328d9/1973981984/il_340x270.1973981984_8y5h.jpg',\n",
              "        'https://www.etsy.com/in-en/listing/714762762/dolphins-print-watercolour-animalnursery?ga_order=most_relevant&ga_search_type=all&ga_view_type=gallery&ga_search_query=kids+wall+art&ref=sr_gallery-6-1&organic_search_click=1&pro=1',\n",
              "        4.95, 20, 5.11, 'United States', 2.209772951628825],\n",
              "       ['Hedgehog Nursery Art Print, Children Wall Decor, Kids Wall Art, Baby Room Wall Art, Animal Set Nursery Print, Children Art Print',\n",
              "        'https://i.etsystatic.com/11677822/d/il/a9f687/1155520906/il_340x270.1155520906_7bom.jpg?version=0',\n",
              "        'https://www.etsy.com/in-en/listing/502771720/hedgehog-nursery-art-print-children-wall?ga_order=most_relevant&ga_search_type=all&ga_view_type=gallery&ga_search_query=kids+wall+art&ref=sr_gallery-2-11&organic_search_click=1',\n",
              "        5.0, 17, 3.54, 'United States', 2.209772951628825],\n",
              "       ['Kids Gift Boy Room Wall Art, Kids Wall Art Print, Kids Room Wall Art, Kids Animal Print Wall Art Bedroom Wall Art Painting, Nerd Hamster Art',\n",
              "        'https://i.etsystatic.com/14007756/c/375/297/99/266/il/115add/1402021971/il_340x270.1402021971_5h2e.jpg',\n",
              "        'https://www.etsy.com/in-en/listing/559122650/kids-gift-boy-room-wall-art-kids-wall?ga_order=most_relevant&ga_search_type=all&ga_view_type=gallery&ga_search_query=kids+wall+art&ref=sr_gallery-2-2&organic_search_click=1&pro=1',\n",
              "        5.0, 16, 24.75, 'United States', 2.209772951628825],\n",
              "       ['Set of 3,Woodland Nursery Decor,Animal Nursery Decor,Woodland print,Animal Print,Woodland Nursery Print,Animal Nursery Print,Kids Wall Art',\n",
              "        'https://i.etsystatic.com/18972194/d/il/8ebd7e/1985389194/il_340x270.1985389194_ei9b.jpg?version=0',\n",
              "        'https://www.etsy.com/in-en/listing/677001891/set-of-3woodland-nursery-decoranimal?ga_order=most_relevant&ga_search_type=all&ga_view_type=gallery&ga_search_query=kids+wall+art&ref=sr_gallery-6-5&organic_search_click=1',\n",
              "        5.0, 14, 10.62, 'United States', 2.209772951628825],\n",
              "       ['Solar System Wall Art Prints, Solar System Nursery Prints, Space Room Decor, Space Nursery Decor, Kids Wall Art Prints, Solar System Poster',\n",
              "        'https://i.etsystatic.com/18972194/d/il/58c52c/1965118078/il_340x270.1965118078_3jqm.jpg?version=0',\n",
              "        'https://www.etsy.com/in-en/listing/707921063/solar-system-wall-art-prints-solar?ga_order=most_relevant&ga_search_type=all&ga_view_type=gallery&ga_search_query=kids+wall+art&ref=sr_gallery-3-12&organic_search_click=1',\n",
              "        5.0, 14, 7.08, 'United States', 2.209772951628825],\n",
              "       ['Nursery Print, Kids Wall Art, Sleepy Bear Print, Kids Print, Nursery Wall Art, Kids Illustration, Animal Print, Kids Room Decor, Nursery Art',\n",
              "        'https://i.etsystatic.com/18854809/d/il/36381b/1676023608/il_340x270.1676023608_sp8a.jpg?version=0',\n",
              "        'https://www.etsy.com/in-en/listing/643014730/nursery-print-kids-wall-art-sleepy-bear?ga_order=most_relevant&ga_search_type=all&ga_view_type=gallery&ga_search_query=kids+wall+art&ref=sr_gallery-5-7&organic_search_click=1',\n",
              "        5.0, 11, 9.08, 'United States', 2.209772951628825],\n",
              "       ['Bear Print, Kids Wall Art, Nursery Print, Bear Wall Art, Kids Print, Nursery Wall Art, Bear Nursery Decor, Kids Poster, Kinderzimmer Poster',\n",
              "        'https://i.etsystatic.com/18854809/d/il/72bcdd/1721793817/il_340x270.1721793817_5y7s.jpg?version=0',\n",
              "        'https://www.etsy.com/in-en/listing/642645240/bear-print-kids-wall-art-nursery-print?ga_order=most_relevant&ga_search_type=all&ga_view_type=gallery&ga_search_query=kids+wall+art&ref=sr_gallery-5-4&organic_search_click=1',\n",
              "        5.0, 11, 9.08, 'United States', 2.209772951628825],\n",
              "       [\"Children's art prints, instant download, set of circus prints, kids wall art, children's bedroom decor\",\n",
              "        'https://i.etsystatic.com/20372591/d/il/4f910f/1991236095/il_340x270.1991236095_519z.jpg?version=0',\n",
              "        'https://www.etsy.com/in-en/listing/707747450/childrens-art-prints-instant-download?ga_order=most_relevant&ga_search_type=all&ga_view_type=gallery&ga_search_query=kids+wall+art&ref=sr_gallery-4-1&organic_search_click=1',\n",
              "        5.0, 4, 16.98, 'United States', 2.209772951628825],\n",
              "       ['Circus Alphabet childrens art print by Emily Skinner, kids wall art, nursery decor, art prints, circus illustration, childrens prints',\n",
              "        'https://i.etsystatic.com/20372591/d/il/1fdf69/1930774158/il_340x270.1930774158_meix.jpg?version=0',\n",
              "        'https://www.etsy.com/in-en/listing/718709457/circus-alphabet-childrens-art-print-by?ga_order=most_relevant&ga_search_type=all&ga_view_type=gallery&ga_search_query=kids+wall+art&ref=sr_gallery-5-11&organic_search_click=1',\n",
              "        5.0, 4, 6.64, 'United States', 2.209772951628825],\n",
              "       [\"children's art print, circus horse print, instant download, animal print, kids wall art, childrens bedroom decor\",\n",
              "        'https://i.etsystatic.com/20372591/d/il/e4a72e/1943681370/il_340x270.1943681370_iinm.jpg?version=0',\n",
              "        'https://www.etsy.com/in-en/listing/721601133/childrens-art-print-circus-horse-print?ga_order=most_relevant&ga_search_type=all&ga_view_type=gallery&ga_search_query=kids+wall+art&ref=sr_gallery-6-12&organic_search_click=1',\n",
              "        5.0, 4, 4.35, 'United States', 2.209772951628825],\n",
              "       [\"Animal Alphabet children's art print, A2 poster, kids wall art, nursery decor, colourful educational illustration, animal print\",\n",
              "        'https://i.etsystatic.com/20372591/d/il/3d62e3/1965541799/il_340x270.1965541799_5azb.jpg?version=0',\n",
              "        'https://www.etsy.com/in-en/listing/715800411/animal-alphabet-childrens-art-print-a2?ga_order=most_relevant&ga_search_type=all&ga_view_type=gallery&ga_search_query=kids+wall+art&ref=sr_gallery-2-3&organic_search_click=1',\n",
              "        5.0, 4, 20.65, 'United States', 2.209772951628825],\n",
              "       ['4 robot art prints, instant download, boys bedroom decor, kids wall art, posters for kids, robot illustration',\n",
              "        'https://i.etsystatic.com/20372591/d/il/983b71/1958340933/il_340x270.1958340933_306k.jpg?version=0',\n",
              "        'https://www.etsy.com/in-en/listing/714140289/4-robot-art-prints-instant-download-boys?ga_order=most_relevant&ga_search_type=all&ga_view_type=gallery&ga_search_query=kids+wall+art&ref=sr_gallery-3-6&organic_search_click=1',\n",
              "        5.0, 4, 11.74, 'United States', 2.209772951628825],\n",
              "       ['Little Man Cave, Grey and Mustard, Playroom Decor, Neutral Nursery, Grey Colours,  Nursery Print, Scandi Style, A5, A4, Kids Wall Art',\n",
              "        'https://i.etsystatic.com/18383937/d/il/431a8c/1881672485/il_340x270.1881672485_k7xu.jpg?version=0',\n",
              "        'https://www.etsy.com/in-en/listing/682110078/little-man-cave-grey-and-mustard?ga_order=most_relevant&ga_search_type=all&ga_view_type=gallery&ga_search_query=kids+wall+art&ref=sr_gallery-6-6&organic_search_click=1',\n",
              "        5.0, 1, 7.51, 'United States', 2.209772951628825]], dtype=object)"
            ]
          },
          "metadata": {
            "tags": []
          },
          "execution_count": 116
        }
      ]
    },
    {
      "cell_type": "code",
      "metadata": {
        "id": "WQv_MGKCULMT",
        "colab_type": "code",
        "outputId": "9ff7bb18-673f-4101-e32c-640515fd296c",
        "colab": {
          "base_uri": "https://localhost:8080/",
          "height": 1000
        }
      },
      "source": [
        "final = final[final[:,7].argsort()]\n",
        "final"
      ],
      "execution_count": 129,
      "outputs": [
        {
          "output_type": "execute_result",
          "data": {
            "text/plain": [
              "array([['Nursery Decor, Animal Nursery Prints, Zoo Animal Wall Art, Baby Animal Nursery Art, Watercolor Prints, Baby Room Decor, Kids Wall Art',\n",
              "        'https://i.etsystatic.com/8271236/c/1536/1220/116/58/il/54da64/1731204199/il_340x270.1731204199_bk98.jpg',\n",
              "        'https://www.etsy.com/in-en/listing/474173469/nursery-decor-animal-nursery-prints-zoo?ga_order=most_relevant&ga_search_type=all&ga_view_type=gallery&ga_search_query=kids+wall+art&ref=sr_gallery-3-7&organic_search_click=1&cns=1',\n",
              "        4.9974, 1809, 95.0, 'United States', 1.0],\n",
              "       ['Elephant Nursery Art - Elephant and Bunny - Set of 3 Prints - Kids Wall Art - Nursery Decor',\n",
              "        'https://i.etsystatic.com/5602698/c/2200/1747/0/83/il/043265/1935307003/il_340x270.1935307003_lrbg.jpg',\n",
              "        'https://www.etsy.com/in-en/listing/184301488/elephant-nursery-art-elephant-and-bunny?ga_order=most_relevant&ga_search_type=all&ga_view_type=gallery&ga_search_query=kids+wall+art&ref=sr_gallery-7-3&organic_search_click=1',\n",
              "        5.0, 2211, 59.0, 'United States', 1.6095755182625864],\n",
              "       ['Heart Nursery Art - Set of Four Heart Prints - Kids Wall Art Girl Bedroom Decor - Heart Girls Decor Heart Pictures - CHOOSE YOUR COLORS',\n",
              "        'https://i.etsystatic.com/5397444/c/1000/794/0/94/il/5eb8d4/2019805655/il_340x270.2019805655_2n1c.jpg',\n",
              "        'https://www.etsy.com/in-en/listing/102602872/heart-nursery-art-set-of-four-heart?ga_order=most_relevant&ga_search_type=all&ga_view_type=gallery&ga_search_query=kids+wall+art&ref=sr_gallery-7-2&organic_search_click=1',\n",
              "        4.9698, 3307, 35.0, 'United States', 1.9096742349457059],\n",
              "       ['Baby Nursery Decor Moon and Stars Nursery Quote Prints Look at the stars Kids Wall Art Baby Gifts for Baby Grey and Beige Art',\n",
              "        'https://i.etsystatic.com/6065043/c/1304/1036/105/981/il/fa5be4/2006822441/il_340x270.2006822441_s89b.jpg',\n",
              "        'https://www.etsy.com/in-en/listing/725232475/baby-nursery-decor-moon-and-stars?ga_order=most_relevant&ga_search_type=all&ga_view_type=gallery&ga_search_query=kids+wall+art&ref=sr_gallery-2-1&organic_search_click=1',\n",
              "        5.0, 2653, 21.0, 'United States', 1.9190523198420533],\n",
              "       ['Kids Wall Art, Playroom Decor, Neutral Playroom Art, Set of Three Nursery Prints, Alphabet Numbers Set, Kids Tree Print - CHOOSE YOUR COLORS',\n",
              "        'https://i.etsystatic.com/5397444/c/1000/794/0/64/il/c40a68/1956091528/il_340x270.1956091528_1bzc.jpg',\n",
              "        'https://www.etsy.com/in-en/listing/160044177/kids-wall-art-playroom-decor-neutral?ga_order=most_relevant&ga_search_type=all&ga_view_type=gallery&ga_search_query=kids+wall+art&ref=sr_gallery-6-9&organic_search_click=1',\n",
              "        4.9698, 3307, 29.5, 'United States', 1.956564659427443],\n",
              "       ['Nursery Wall Decor - Kids Wall Art - Modern Monogram on Polka dots - Personalized Customizable PRINT - New baby gift - Initial PRINT',\n",
              "        'https://i.etsystatic.com/6816849/d/il/eb5076/1851722917/il_340x270.1851722917_ik5f.jpg?version=0',\n",
              "        'https://www.etsy.com/in-en/listing/123775707/nursery-wall-decor-kids-wall-art-modern?ga_order=most_relevant&ga_search_type=all&ga_view_type=gallery&ga_search_query=kids+wall+art&ref=sr_gallery-5-12&organic_search_click=1&col=1',\n",
              "        4.9767, 3239, 20.0, 'United States', 1.9846989141164857],\n",
              "       [\"Word Nursery Art -- Read Me A Story -- Fox Reads a Book -- Children's Art Print -- Nursery Art -- Kids Wall Art\",\n",
              "        'https://i.etsystatic.com/5602698/d/il/bd3334/1211008078/il_340x270.1211008078_he5n.jpg?version=0',\n",
              "        'https://www.etsy.com/in-en/listing/227426564/word-nursery-art-read-me-a-story-fox?ga_order=most_relevant&ga_search_type=all&ga_view_type=gallery&ga_search_query=kids+wall+art&ref=sr_gallery-5-5&organic_search_click=1',\n",
              "        5.0, 2211, 17.0, 'United States', 1.994076999012833],\n",
              "       [\"Lamb Nursery Art -- I Love You To The Moon And Back -- Nursery Quote -- Star Art --  Nursery Decor -- Children's Art -- Kids Wall Art\",\n",
              "        'https://i.etsystatic.com/5602698/d/il/717d68/1278182343/il_340x270.1278182343_1feq.jpg?version=0',\n",
              "        'https://www.etsy.com/in-en/listing/225221279/lamb-nursery-art-i-love-you-to-the-moon?ga_order=most_relevant&ga_search_type=all&ga_view_type=gallery&ga_search_query=kids+wall+art&ref=sr_gallery-2-12&organic_search_click=1',\n",
              "        5.0, 2211, 17.0, 'United States', 1.994076999012833],\n",
              "       ['Airplane Nursery Art, Biplane Nursery Print, Kids Wall Art, Plane Print, Big Boy Room Decor, Airplane Watercolor, Playroom Art Print',\n",
              "        'https://i.etsystatic.com/8271236/c/1327/1054/89/245/il/509659/1682578192/il_340x270.1682578192_cz2m.jpg',\n",
              "        'https://www.etsy.com/in-en/listing/621095946/airplane-nursery-art-biplane-nursery?ga_order=most_relevant&ga_search_type=all&ga_view_type=gallery&ga_search_query=kids+wall+art&ref=sr_gallery-3-11&organic_search_click=1',\n",
              "        4.9974, 1809, 19.5, 'United States', 2.031589338598223],\n",
              "       ['Gender Neutral Nursery Decor Kids Room Decor Kids Wall Art Animal Nursery Art Baby Animal Nursery Art Cute Nursery Decor Nursery Animal Art',\n",
              "        'https://i.etsystatic.com/11812324/d/il/f9c9da/1388897701/il_340x270.1388897701_4ube.jpg?version=0',\n",
              "        'https://www.etsy.com/in-en/listing/498843806/gender-neutral-nursery-decor-kids-room?ga_order=most_relevant&ga_search_type=all&ga_view_type=gallery&ga_search_query=kids+wall+art&ref=sr_gallery-1-5&organic_search_click=1',\n",
              "        4.9756, 2251, 20.05, 'United States', 2.0409674234945703],\n",
              "       ['Girl holding hearts balloon kids wall art,Baby girl nursery wall art print,toddler girl bedroom decor',\n",
              "        'https://i.etsystatic.com/5672831/d/il/fc7e63/291342436/il_340x270.291342436.jpg?version=1',\n",
              "        'https://www.etsy.com/in-en/listing/79098606/girl-holding-hearts-balloon-kids-wall?ga_order=most_relevant&ga_search_type=all&ga_view_type=gallery&ga_search_query=kids+wall+art&ref=sr_gallery-5-9&organic_search_click=1&col=1',\n",
              "        5.0, 1621, 17.0, 'United States', 2.050345508390918],\n",
              "       ['Baby Deer Print, DIGITAL DOWNLOAD Nursery Decor, Baby Shower Gift, Kids Poster ,Nursery Print, Animal Print for Nursery, Kids Wall Art Print',\n",
              "        'https://i.etsystatic.com/11661270/c/1401/1114/41/191/il/b8a33c/1979810935/il_340x270.1979810935_lbdm.jpg',\n",
              "        'https://www.etsy.com/in-en/listing/289586385/baby-deer-print-digital-download-nursery?ga_order=most_relevant&ga_search_type=all&ga_view_type=gallery&ga_search_query=kids+wall+art&ref=sr_gallery-2-6&organic_search_click=1',\n",
              "        4.9906, 2023, 6.27, 'United States', 2.0972359328726555],\n",
              "       ['Playroom Decor, Playroom Print, Kids Poster, Nursery Print, Nursery Decor, Dream Big Print, Kids Decor, Kids Wall Art, Nursery Wall Art',\n",
              "        'https://i.etsystatic.com/11270471/d/il/bbeddd/1812911576/il_340x270.1812911576_ret2.jpg?version=1',\n",
              "        'https://www.etsy.com/in-en/listing/677048588/playroom-decor-playroom-print-kids?ga_order=most_relevant&ga_search_type=all&ga_view_type=gallery&ga_search_query=kids+wall+art&ref=sr_gallery-6-11&organic_search_click=1',\n",
              "        4.9971, 1916, 4.72, 'United States', 2.1066140177690027],\n",
              "       ['Elephant Painting - Canvas Nursery Art - Gray - Nursery Decor - Watercolor Elephant - Print - Canvas Artwork - Kids Wall Art - E2101',\n",
              "        'https://i.etsystatic.com/9205717/d/il/94d1a5/621739385/il_340x270.621739385_9116.jpg?version=0',\n",
              "        'https://www.etsy.com/in-en/listing/194897494/elephant-painting-canvas-nursery-art?ga_order=most_relevant&ga_search_type=all&ga_view_type=gallery&ga_search_query=kids+wall+art&ref=sr_gallery-4-8&organic_search_click=1&col=1',\n",
              "        4.9437, 1057, 49.0, 'United States', 2.125370187561698],\n",
              "       ['Hello Bonjour Hola Wall Art, Kids Wall Art, Nursery Art, Home Decor, Home Wall Art, Apartment Art, Apartment Print, Custom Color - 11x14',\n",
              "        'https://i.etsystatic.com/6709469/d/il/229a05/469559603/il_340x270.469559603_2zdi.jpg?version=0',\n",
              "        'https://www.etsy.com/in-en/listing/154253814/hello-bonjour-hola-wall-art-kids-wall?ga_order=most_relevant&ga_search_type=all&ga_view_type=gallery&ga_search_query=kids+wall+art&ref=sr_gallery-4-3&organic_search_click=1',\n",
              "        4.8901, 1306, 10.0, 'United States', 2.144126357354393],\n",
              "       ['Childrens Art Kids Wall Art Baby Girl Room Decor Baby Girl Nursery Kids Room Kids Art Prints set of 3 Owls Giraffe Alphabet Pink Blue',\n",
              "        'https://i.etsystatic.com/6762438/d/il/a20987/422537080/il_340x270.422537080_topy.jpg?version=0',\n",
              "        'https://www.etsy.com/in-en/listing/122277631/childrens-art-kids-wall-art-baby-girl?ga_order=most_relevant&ga_search_type=all&ga_view_type=gallery&ga_search_query=kids+wall+art&ref=sr_gallery-4-4&organic_search_click=1&pro=1',\n",
              "        4.725, 616, 22.47, 'United States', 2.1535044422507403],\n",
              "       ['Bunny Nursery Print, Kids Wall Art, Printable Nursery Art, Girls Bedroom Decor, Animal Print For Nursery, Rabbit Wall Art For Girl Room',\n",
              "        'https://i.etsystatic.com/10608069/d/il/700b50/1473870314/il_340x270.1473870314_l35y.jpg?version=0',\n",
              "        'https://www.etsy.com/in-en/listing/525538223/bunny-nursery-print-kids-wall-art?ga_order=most_relevant&ga_search_type=all&ga_view_type=gallery&ga_search_query=kids+wall+art&ref=sr_gallery-5-1&organic_search_click=1',\n",
              "        5.0, 588, 7.08, 'United States', 2.1535044422507403],\n",
              "       ['Printable Kids Wall Art, Letter Print Digital, Initial Print Nursery, Kids Poster Printable, Nursery Art, Colourful Wall Art Kids Room Decor',\n",
              "        'https://i.etsystatic.com/10608069/d/il/c81bf8/1824921360/il_340x270.1824921360_c4eb.jpg?version=0',\n",
              "        'https://www.etsy.com/in-en/listing/679913116/printable-kids-wall-art-letter-print?ga_order=most_relevant&ga_search_type=all&ga_view_type=gallery&ga_search_query=kids+wall+art&ref=sr_gallery-7-5&organic_search_click=1',\n",
              "        5.0, 588, 7.08, 'United States', 2.1535044422507403],\n",
              "       ['Custom Dog Paw Print, Art Print, Dog Lover Gift, Pet Memorial, Animal Kids Wall Art Watercolor Painting by Lisa Whitehouse',\n",
              "        'https://i.etsystatic.com/9109209/d/il/270f84/1581887897/il_340x270.1581887897_lnha.jpg?version=0',\n",
              "        'https://www.etsy.com/in-en/listing/608311432/custom-dog-paw-print-art-print-dog-lover?ga_order=most_relevant&ga_search_type=all&ga_view_type=gallery&ga_search_query=kids+wall+art&ref=sr_gallery-7-4&organic_search_click=1',\n",
              "        4.9886, 506, 16.59, 'United States', 2.1628825271470875],\n",
              "       ['ALL my prints DIGITAL file Art for Children Kids Wall Art Baby Girl Room Decor 8\" x 10\" DIGITAL image',\n",
              "        'https://i.etsystatic.com/6762438/d/il/4158f7/361195524/il_340x270.361195524_s40u.jpg?version=0',\n",
              "        'https://www.etsy.com/in-en/listing/105652341/all-my-prints-digital-file-art-for?ga_order=most_relevant&ga_search_type=all&ga_view_type=gallery&ga_search_query=kids+wall+art&ref=sr_gallery-7-1&organic_search_click=1&pro=1&frs=1',\n",
              "        4.725, 616, 6.13, 'United States', 2.1628825271470875],\n",
              "       ['Kids wall Art Set, Cloud Print, Nursery Print Set, Baby Room Decor - Colourful Weather',\n",
              "        'https://i.etsystatic.com/5889258/d/il/2a3cf3/1942288349/il_340x270.1942288349_efkg.jpg?version=0',\n",
              "        'https://www.etsy.com/in-en/listing/710348667/kids-wall-art-set-cloud-print-nursery?ga_order=most_relevant&ga_search_type=all&ga_view_type=gallery&ga_search_query=kids+wall+art&ref=sr_gallery-4-5&organic_search_click=1&frs=1',\n",
              "        4.9643, 414, 22.52, 'United States', 2.172260612043435],\n",
              "       ['Nursery Decor, Nursery Wall Art, Woodland Animal, Woodland Nursery, Girls Prints, Kids Decor, Kids Wall Art, Girls Room Decor, Nursery Decor',\n",
              "        'https://i.etsystatic.com/11487801/c/1588/1261/33/66/il/235f10/1779513622/il_340x270.1779513622_jjc0.jpg',\n",
              "        'https://www.etsy.com/in-en/listing/634690397/nursery-decor-nursery-wall-art-woodland?ga_order=most_relevant&ga_search_type=all&ga_view_type=gallery&ga_search_query=kids+wall+art&ref=sr_gallery-6-7&organic_search_click=1',\n",
              "        4.8952, 406, 12.59, 'United States', 2.172260612043435],\n",
              "       ['Nursery Prints, Boys Scandi Animal Wall Art Prints, Set of 3 Prints, Baby Name Print, Lion, Bear, Customised, Boys Room Decor, Kids Wall Art',\n",
              "        'https://i.etsystatic.com/11487801/c/2169/1722/0/18/il/91abbe/1943714535/il_340x270.1943714535_oe7r.jpg',\n",
              "        'https://www.etsy.com/in-en/listing/710687687/nursery-prints-boys-scandi-animal-wall?ga_order=most_relevant&ga_search_type=all&ga_view_type=gallery&ga_search_query=kids+wall+art&ref=sr_gallery-2-5&organic_search_click=1&cns=1',\n",
              "        4.8952, 406, 25.17, 'United States', 2.172260612043435],\n",
              "       ['I AM ME Print  (Puppy Boy) - Personalised Kids well being print - Personalised Kids Wall Art',\n",
              "        'https://i.etsystatic.com/11432644/d/il/846613/1989820586/il_340x270.1989820586_kibc.jpg?version=0',\n",
              "        'https://www.etsy.com/in-en/listing/718431386/i-am-me-print-puppy-boy-personalised?ga_order=most_relevant&ga_search_type=all&ga_view_type=gallery&ga_search_query=kids+wall+art&ref=sr_gallery-7-12&organic_search_click=1',\n",
              "        4.8857, 371, 13.99, 'United States', 2.172260612043435],\n",
              "       ['Nursery decor boy, Little man cave, Nursery wall art mountains, Nursery prints boy, Kids wall art, Nursery art, Kids room decor, Bear print',\n",
              "        'https://i.etsystatic.com/9235423/d/il/52c634/1926762318/il_340x270.1926762318_jtrr.jpg?version=0',\n",
              "        'https://www.etsy.com/in-en/listing/686328789/nursery-decor-boy-little-man-cave?ga_order=most_relevant&ga_search_type=all&ga_view_type=gallery&ga_search_query=kids+wall+art&ref=sr_gallery-5-3&organic_search_click=1&frs=1',\n",
              "        5.0, 261, 31.77, 'United States', 2.1816386969397827],\n",
              "       ['Kids Wall Art- The wheels on the bus',\n",
              "        'https://i.etsystatic.com/5411206/d/il/cdaa80/482695172/il_340x270.482695172_bmka.jpg?version=0',\n",
              "        'https://www.etsy.com/in-en/listing/157538725/kids-wall-art-the-wheels-on-the-bus?ga_order=most_relevant&ga_search_type=all&ga_view_type=gallery&ga_search_query=kids+wall+art&ref=sr_gallery-2-7&organic_search_click=1',\n",
              "        5.0, 288, 12.0, 'United States', 2.1816386969397827],\n",
              "       ['Kids Wall Art- I am kind I am brave I am smart|nursery decor| inspirational decor| typography art',\n",
              "        'https://i.etsystatic.com/5411206/d/il/7bd093/731727258/il_340x270.731727258_2c2y.jpg?version=0',\n",
              "        'https://www.etsy.com/in-en/listing/223687888/kids-wall-art-i-am-kind-i-am-brave-i-am?ga_order=most_relevant&ga_search_type=all&ga_view_type=gallery&ga_search_query=kids+wall+art&ref=sr_gallery-1-3&organic_search_click=1&bes=1',\n",
              "        5.0, 288, 12.0, 'United States', 2.1816386969397827],\n",
              "       ['Kids Wall Art- The wheels on the bus',\n",
              "        'https://i.etsystatic.com/5411206/d/il/cdaa80/482695172/il_340x270.482695172_bmka.jpg?version=0',\n",
              "        'https://www.etsy.com/in-en/listing/157538725/kids-wall-art-the-wheels-on-the-bus?ga_order=most_relevant&ga_search_type=all&ga_view_type=gallery&ga_search_query=kids+wall+art&ref=sr_gallery-4-11&organic_search_click=1',\n",
              "        5.0, 288, 12.0, 'United States', 2.1816386969397827],\n",
              "       ['Sun Poster, Yellow Nursery Print, Kids Room Decor, Playroom Poster, Sun Print Wall Art, Yellow Printable Art Kids Wall Art DIGITAL DOWNLOAD',\n",
              "        'https://i.etsystatic.com/11777602/d/il/4d14f4/1487423511/il_340x270.1487423511_95vt.jpg?version=1',\n",
              "        'https://www.etsy.com/in-en/listing/583349028/sun-poster-yellow-nursery-print-kids?ga_order=most_relevant&ga_search_type=all&ga_view_type=gallery&ga_search_query=kids+wall+art&ref=sr_gallery-1-7&organic_search_click=1&bes=1',\n",
              "        4.9868, 264, 6.64, 'United States', 2.1816386969397827],\n",
              "       ['Woodland Nursery wall art, Nursery decor, Nursery prints, Woodland prints, Animal nursery, Forest animals, Kids wall art, Neutral Nursery',\n",
              "        'https://i.etsystatic.com/9235423/c/2631/2091/168/101/il/641966/1952136146/il_340x270.1952136146_kpm3.jpg',\n",
              "        'https://www.etsy.com/in-en/listing/723565153/woodland-nursery-wall-art-nursery-decor?ga_order=most_relevant&ga_search_type=all&ga_view_type=gallery&ga_search_query=kids+wall+art&ref=sr_gallery-1-9&organic_search_click=1&frs=1',\n",
              "        5.0, 261, 14.75, 'United States', 2.1816386969397827],\n",
              "       [\"Kids Wall Art, Children's Wall Art, Nursery Set of 4 Prints, Sunshine Wall Art, Raincloud Print, Unisex Decor, Girls Room, Boys Room, Sale\",\n",
              "        'https://i.etsystatic.com/17259186/d/il/9f1ae9/1944238804/il_340x270.1944238804_r3c8.jpg?version=0',\n",
              "        'https://www.etsy.com/in-en/listing/707883880/kids-wall-art-childrens-wall-art-nursery?ga_order=most_relevant&ga_search_type=all&ga_view_type=gallery&ga_search_query=kids+wall+art&ref=sr_gallery-2-8&organic_search_click=1&pro=1',\n",
              "        4.9368, 238, 10.51, 'United States', 2.1816386969397827],\n",
              "       ['Printable Nursery Art, Alphabet Poster, Nursery Decor Download, Nursery Print for Baby Boy, Kids Wall Art, Alphabet Print, Navy Blue',\n",
              "        'https://i.etsystatic.com/8510944/d/il/328dd9/1939617104/il_340x270.1939617104_q9ho.jpg?version=0',\n",
              "        'https://www.etsy.com/in-en/listing/212822673/printable-nursery-art-alphabet-poster?ga_order=most_relevant&ga_search_type=all&ga_view_type=gallery&ga_search_query=kids+wall+art&ref=sr_gallery-7-7&organic_search_click=1',\n",
              "        4.9333, 163, 5.9, 'United States', 2.1910167818361304],\n",
              "       ['You Are My Sunshine My Only Sunshine, Yellow Nursery Print, Kids Room Decor, Yellow Nursery Decor, Baby Gift, Kids Wall Art, Unisex Nursery',\n",
              "        'https://i.etsystatic.com/8510944/d/il/ec03f7/1987126581/il_340x270.1987126581_dcnf.jpg?version=0',\n",
              "        'https://www.etsy.com/in-en/listing/706833460/you-are-my-sunshine-my-only-sunshine?ga_order=most_relevant&ga_search_type=all&ga_view_type=gallery&ga_search_query=kids+wall+art&ref=sr_gallery-6-10&organic_search_click=1',\n",
              "        4.9333, 163, 14.0, 'United States', 2.1910167818361304],\n",
              "       ['Dream Big, Downloadable Prints, Nursery Decor, Kids Wall Art, Bedroom Decor, Girls Room Poster, Boys Room Print, Baby Shower Gift, Printable',\n",
              "        'https://i.etsystatic.com/13891034/d/il/72d027/1868427799/il_340x270.1868427799_cv53.jpg?version=0',\n",
              "        'https://www.etsy.com/in-en/listing/598619750/dream-big-downloadable-prints-nursery?ga_order=most_relevant&ga_search_type=all&ga_view_type=gallery&ga_search_query=kids+wall+art&ref=sr_gallery-5-10&organic_search_click=1&pro=1',\n",
              "        4.9916, 146, 4.39, 'United States', 2.1910167818361304],\n",
              "       ['Numbers and Alphabet, Nursery Print Set of 2 Download, Printable Kids Wall Art, Nursery Decor, Neutral Nursery Decor, Educational Posters',\n",
              "        'https://i.etsystatic.com/8510944/c/2314/1839/79/98/il/f42c61/1987407427/il_340x270.1987407427_qtuy.jpg',\n",
              "        'https://www.etsy.com/in-en/listing/720765553/numbers-and-alphabet-nursery-print-set?ga_order=most_relevant&ga_search_type=all&ga_view_type=gallery&ga_search_query=kids+wall+art&ref=sr_gallery-4-2&organic_search_click=1',\n",
              "        4.9333, 163, 11.8, 'United States', 2.1910167818361304],\n",
              "       [\"Don't Grow Up Its A Trap Printable Art, Monochrome Nursery Prints, Kids Wall Art, Nursery Decor Art, Kids Quote Poster *INSTANT DOWNLOAD*\",\n",
              "        'https://i.etsystatic.com/12486633/d/il/d45afc/1952599080/il_340x270.1952599080_smc2.jpg?version=0',\n",
              "        'https://www.etsy.com/in-en/listing/624881574/dont-grow-up-its-a-trap-printable-art?ga_order=most_relevant&ga_search_type=all&ga_view_type=gallery&ga_search_query=kids+wall+art&ref=sr_gallery-7-8&organic_search_click=1&pro=1',\n",
              "        5.0, 143, 5.25, 'United States', 2.1910167818361304],\n",
              "       ['Be Silly Be Honest Be Kind Printable Art, Monochrome Nursery Decor, Nursery Quote Prints, Kids Wall Art, Playroom Decor *Instant Download*',\n",
              "        'https://i.etsystatic.com/12486633/d/il/3dc0e9/1978055067/il_340x270.1978055067_qx8s.jpg?version=0',\n",
              "        'https://www.etsy.com/in-en/listing/718644889/be-silly-be-honest-be-kind-printable-art?ga_order=most_relevant&ga_search_type=all&ga_view_type=gallery&ga_search_query=kids+wall+art&ref=sr_gallery-1-12&organic_search_click=1&pro=1',\n",
              "        5.0, 143, 5.25, 'United States', 2.1910167818361304],\n",
              "       ['Animal Nursery Prints Wall Art Cat Poster Watercolor Print Printable Art Kids Wall Art Cat Print Animal Wall Art Digital Download',\n",
              "        'https://i.etsystatic.com/10956966/c/3000/2382/0/88/il/9d12a9/1647297747/il_340x270.1647297747_sy6m.jpg',\n",
              "        'https://www.etsy.com/in-en/listing/639005341/animal-nursery-prints-wall-art-cat?ga_order=most_relevant&ga_search_type=all&ga_view_type=gallery&ga_search_query=kids+wall+art&ref=sr_gallery-5-8&organic_search_click=1',\n",
              "        4.7955, 142, 8.6, 'United States', 2.1910167818361304],\n",
              "       ['Kids Typography Printable Art Poster, Children Quotes Prints, Monochrome Playroom Decor, Kids Wall Art, Play Outside *Instant Download*',\n",
              "        'https://i.etsystatic.com/12486633/d/il/cddf8c/2001267363/il_340x270.2001267363_nmut.jpg?version=0',\n",
              "        'https://www.etsy.com/in-en/listing/709815050/kids-typography-printable-art-poster?ga_order=most_relevant&ga_search_type=all&ga_view_type=gallery&ga_search_query=kids+wall+art&ref=sr_gallery-3-4&organic_search_click=1&pro=1',\n",
              "        5.0, 143, 5.25, 'United States', 2.1910167818361304],\n",
              "       ['Nursery Decor Download, Printable Alphabet Art, Colorful Nursery Print, Kids Wall Art, Gender Neutral, Kids Room Decor, Instant Download',\n",
              "        'https://i.etsystatic.com/8510944/d/il/6c5735/1987146791/il_340x270.1987146791_apqj.jpg?version=0',\n",
              "        'https://www.etsy.com/in-en/listing/212080662/nursery-decor-download-printable?ga_order=most_relevant&ga_search_type=all&ga_view_type=gallery&ga_search_query=kids+wall+art&ref=sr_gallery-4-12&organic_search_click=1',\n",
              "        4.9333, 163, 5.9, 'United States', 2.1910167818361304],\n",
              "       ['Teepee Wall Art, Nursery Wall Art, Kids Wall Art, Word Art, XOXO, Love,  Digital Print Wall Art',\n",
              "        'https://i.etsystatic.com/12075413/d/il/dc3977/904809359/il_340x270.904809359_m347.jpg?version=0',\n",
              "        'https://www.etsy.com/in-en/listing/264214045/teepee-wall-art-nursery-wall-art-kids?ga_order=most_relevant&ga_search_type=all&ga_view_type=gallery&ga_search_query=kids+wall+art&ref=sr_gallery-5-6&organic_search_click=1',\n",
              "        4.95, 184, 2.98, 'United States', 2.1910167818361304],\n",
              "       ['BOYS RULE PRINT, Kids Room, wall art, baby boys nursery, playroom printable, wall art decor, kids wall art, Art Print, Boys room, Boys rule',\n",
              "        'https://i.etsystatic.com/7257453/d/il/ed720d/1291781268/il_340x270.1291781268_hhr0.jpg?version=0',\n",
              "        'https://www.etsy.com/in-en/listing/556727763/boys-rule-print-kids-room-wall-art-baby?ga_order=most_relevant&ga_search_type=all&ga_view_type=gallery&ga_search_query=kids+wall+art&ref=sr_gallery-6-2&organic_search_click=1',\n",
              "        4.9907, 211, 6.38, 'United States', 2.1910167818361304],\n",
              "       ['Sunshine Nursery Print, Digital Download, Printable Wall Art, Neutral Nursery Decor, Typography Print, Kids Wall Art, Neutral Wall Art',\n",
              "        'https://i.etsystatic.com/9260505/d/il/753c69/1990762450/il_340x270.1990762450_qxl0.jpg?version=0',\n",
              "        'https://www.etsy.com/in-en/listing/718655336/sunshine-nursery-print-digital-download?ga_order=most_relevant&ga_search_type=all&ga_view_type=gallery&ga_search_query=kids+wall+art&ref=sr_gallery-1-11&organic_search_click=1',\n",
              "        4.9643, 215, 7.84, 'United States', 2.1910167818361304],\n",
              "       [\"Rainbow Wall Art, Kids Room Decor, Gender Neutral Nursery Prints, Girls Wall Art, Children's Art, Kids Wall Art, Baby Shower Gift\",\n",
              "        'https://i.etsystatic.com/9260505/d/il/d0c1f0/1790817842/il_340x270.1790817842_4md6.jpg?version=0',\n",
              "        'https://www.etsy.com/in-en/listing/665745748/rainbow-wall-art-kids-room-decor-gender?ga_order=most_relevant&ga_search_type=all&ga_view_type=gallery&ga_search_query=kids+wall+art&ref=sr_gallery-1-2&organic_search_click=1&frs=1',\n",
              "        4.9649, 216, 20.94, 'United States', 2.1910167818361304],\n",
              "       ['Nursery Print, Kids Wall Art, Nursery Decor, Sunshine Print, Prints for Kids, Nursery Wall Art, Neutral Nursery, Modern Nursery',\n",
              "        'https://i.etsystatic.com/9260505/d/il/edb65f/1987405368/il_340x270.1987405368_f02x.jpg?version=0',\n",
              "        'https://www.etsy.com/in-en/listing/731725199/nursery-print-kids-wall-art-nursery?ga_order=most_relevant&ga_search_type=all&ga_view_type=gallery&ga_search_query=kids+wall+art&ref=sr_gallery-1-6&organic_search_click=1&frs=1',\n",
              "        4.9649, 216, 20.94, 'United States', 2.1910167818361304],\n",
              "       ['Woodland Animals, Animal Nursery Prints, Kids Room Decor, Baby Shower Gift, kids Wall Art, Woodland Nursery, Bear Print, Animal Decor',\n",
              "        'https://i.etsystatic.com/9260505/d/il/8f9dc9/1839090241/il_340x270.1839090241_jomu.jpg?version=0',\n",
              "        'https://www.etsy.com/in-en/listing/639151533/woodland-animals-animal-nursery-prints?ga_order=most_relevant&ga_search_type=all&ga_view_type=gallery&ga_search_query=kids+wall+art&ref=sr_gallery-3-1&organic_search_click=1&frs=1',\n",
              "        4.9649, 216, 20.94, 'United States', 2.1910167818361304],\n",
              "       ['Alphabet Nursery Print - Kids Wall Art - Nursery Wall Art - Baby Girl Nursery - Printable Nursery Art- Kids Room - Printable Art',\n",
              "        'https://i.etsystatic.com/9949520/c/1096/871/201/126/il/acd900/1197023167/il_340x270.1197023167_8fai.jpg',\n",
              "        'https://www.etsy.com/in-en/listing/514572931/alphabet-nursery-print-kids-wall-art?ga_order=most_relevant&ga_search_type=all&ga_view_type=gallery&ga_search_query=kids+wall+art&ref=sr_gallery-6-3&organic_search_click=1',\n",
              "        4.95, 230, 4.43, 'United States', 2.1910167818361304],\n",
              "       ['Animal world map, Woodland nursery, Kids world map print, Watercolor map with animals, Gender neutral art, Large poster, Kid wall art',\n",
              "        'https://i.etsystatic.com/14540121/d/il/a8dd46/2017306065/il_340x270.2017306065_i7bu.jpg?version=0',\n",
              "        'https://www.etsy.com/in-en/listing/612404865/animal-world-map-woodland-nursery-kids?ga_order=most_relevant&ga_search_type=all&ga_view_type=gallery&ga_search_query=kids+wall+art&ref=sr_gallery-1-8&organic_search_click=1',\n",
              "        4.9943, 236, 13.39, 'United States', 2.1910167818361304],\n",
              "       ['Dinosaur world map, Dinosaur nursery, Kids world map print, Watercolor map with dinosaurs, Gender neutral art, Large poster, Kid wall art',\n",
              "        'https://i.etsystatic.com/14540121/d/il/3941df/1989147480/il_340x270.1989147480_inpt.jpg?version=0',\n",
              "        'https://www.etsy.com/in-en/listing/682274581/dinosaur-world-map-dinosaur-nursery-kids?ga_order=most_relevant&ga_search_type=all&ga_view_type=gallery&ga_search_query=kids+wall+art&ref=sr_gallery-1-4&organic_search_click=1&bes=1',\n",
              "        4.9943, 237, 13.39, 'United States', 2.1910167818361304],\n",
              "       ['The kids are all right print Nursery wall art, Type art print Nursery print, Wall art print Quote home decor, Kids wall art Typography print',\n",
              "        'https://i.etsystatic.com/14262101/c/1415/1123/77/255/il/5b8da8/1842703413/il_340x270.1842703413_8s4k.jpg',\n",
              "        'https://www.etsy.com/in-en/listing/672843670/the-kids-are-all-right-print-nursery?ga_order=most_relevant&ga_search_type=all&ga_view_type=gallery&ga_search_query=kids+wall+art&ref=sr_gallery-6-8&organic_search_click=1',\n",
              "        4.9286, 40, 7.85, 'United States', 2.200394866732478],\n",
              "       ['Lobster Nursery Print, Printable Nursery Art, Nautical Nursery Print, Kids Wall Art, Watercolor Print for Kids, Art Digital Download Print',\n",
              "        'https://i.etsystatic.com/13440442/d/il/77d6ed/1146849498/il_340x270.1146849498_au3r.jpg?version=0',\n",
              "        'https://www.etsy.com/in-en/listing/513430499/lobster-nursery-print-printable-nursery?ga_order=most_relevant&ga_search_type=all&ga_view_type=gallery&ga_search_query=kids+wall+art&ref=sr_gallery-7-9&organic_search_click=1',\n",
              "        5.0, 53, 5.9, 'United States', 2.200394866732478],\n",
              "       ['Set of 3 Space Wall Art, Digital Download, Kids Outer Space Decor, Space Wall Art, Printable Wall Art, Kids Wall Art, Space Themed Nursery',\n",
              "        'https://i.etsystatic.com/15988185/d/il/3e4db4/1970127378/il_340x270.1970127378_iwy1.jpg?version=0',\n",
              "        'https://www.etsy.com/in-en/listing/713866002/set-of-3-space-wall-art-digital-download?ga_order=most_relevant&ga_search_type=all&ga_view_type=gallery&ga_search_query=kids+wall+art&ref=sr_gallery-3-5&organic_search_click=1',\n",
              "        4.975, 54, 9.23, 'United States', 2.200394866732478],\n",
              "       ['Dog Nursery Wall Art, Dalmatian Nursery Print, Printable Kids Wall Art, Scandinavian Nursery Decor, Digital Download Art, Baby Shower Gift',\n",
              "        'https://i.etsystatic.com/13135025/c/909/721/53/141/il/7449e1/1406473347/il_340x270.1406473347_nzlr.jpg',\n",
              "        'https://www.etsy.com/in-en/listing/520977174/dog-nursery-wall-art-dalmatian-nursery?ga_order=most_relevant&ga_search_type=all&ga_view_type=gallery&ga_search_query=kids+wall+art&ref=sr_gallery-5-2&organic_search_click=1',\n",
              "        4.9677, 58, 7.4, 'United States', 2.200394866732478],\n",
              "       ['Superhero Wall Art, Superhero Prints, Boys Room, Nursery Decor, Superhero Poster, Superhero Art, Kid Wall Art, Set of 8 Prints',\n",
              "        'https://i.etsystatic.com/10844248/d/il/8addf8/1200016491/il_340x270.1200016491_9rt1.jpg?version=0',\n",
              "        'https://www.etsy.com/in-en/listing/502085820/superhero-wall-art-superhero-prints-boys?ga_order=most_relevant&ga_search_type=all&ga_view_type=gallery&ga_search_query=kids+wall+art&ref=sr_gallery-2-10&organic_search_click=1',\n",
              "        5.0, 60, 30.0, 'United States', 2.200394866732478],\n",
              "       ['kids room decor, dinosaur, kids wall art, printable, digital download, nursery decor, nursery, instant download, nursery wall art, alphabet',\n",
              "        'https://i.etsystatic.com/17070411/c/2350/1866/29/306/il/32e77f/1559713009/il_340x270.1559713009_n8dt.jpg',\n",
              "        'https://www.etsy.com/in-en/listing/583742304/kids-room-decor-dinosaur-kids-wall-art?ga_order=most_relevant&ga_search_type=all&ga_view_type=gallery&ga_search_query=kids+wall+art&ref=sr_gallery-2-9&organic_search_click=1',\n",
              "        5.0, 69, 8.86, 'United States', 2.200394866732478],\n",
              "       ['Set of 3 Space Wall Art, Digital Download, Kids Outer Space Decor, Space Wall Art, Printable Wall Art, Kids Wall Art, Space Themed Nursery',\n",
              "        'https://i.etsystatic.com/15988185/d/il/3e4db4/1970127378/il_340x270.1970127378_iwy1.jpg?version=0',\n",
              "        'https://www.etsy.com/in-en/listing/713866002/set-of-3-space-wall-art-digital-download?ga_order=most_relevant&ga_search_type=all&ga_view_type=gallery&ga_search_query=kids+wall+art&ref=sr_gallery-4-10&organic_search_click=1',\n",
              "        4.975, 54, 9.23, 'United States', 2.200394866732478],\n",
              "       ['Farmall - Red Tractor Photo - Farm Photography - Red Tractor Wall Art  - Tractor Print - Kids Wall Art - Color Photograph - Farmhouse Decor',\n",
              "        'https://i.etsystatic.com/5713744/d/il/8b02d6/490486693/il_340x270.490486693_42se.jpg?version=2',\n",
              "        'https://www.etsy.com/in-en/listing/96793047/farmall-red-tractor-photo-farm?ga_order=most_relevant&ga_search_type=all&ga_view_type=gallery&ga_search_query=kids+wall+art&ref=sr_gallery-4-7&organic_search_click=1&sca=1',\n",
              "        5.0, 105, 33.0, 'United States', 2.200394866732478],\n",
              "       ['Happy Manners Card Set B of 14 - Good Manners Learning & Educational Flash Cards // Kids Wall Art Children Room Decor',\n",
              "        'https://i.etsystatic.com/6031194/d/il/d54e30/751880350/il_340x270.751880350_m5lq.jpg?version=0',\n",
              "        'https://www.etsy.com/in-en/listing/110511837/happy-manners-card-set-b-of-14-good?ga_order=most_relevant&ga_search_type=all&ga_view_type=gallery&ga_search_query=kids+wall+art&ref=sr_gallery-7-10&organic_search_click=1',\n",
              "        5.0, 115, 12.5, 'United States', 2.200394866732478],\n",
              "       ['kid you got this, kids wall art,  kids room décor, kids quote, inspirational kids print, monochrome kids art, inspirational childrens art',\n",
              "        'https://i.etsystatic.com/17134326/d/il/f157b8/2033352153/il_340x270.2033352153_8lu3.jpg?version=0',\n",
              "        'https://www.etsy.com/in-en/listing/604826151/kid-you-got-this-kids-wall-art-kids-room?ga_order=most_relevant&ga_search_type=all&ga_view_type=gallery&ga_search_query=kids+wall+art&ref=sr_gallery-1-10&organic_search_click=1&pro=1',\n",
              "        4.9901, 115, 4.08, 'United States', 2.200394866732478],\n",
              "       ['Baby Decor, Kids Art, Kids Prints, Childrens Decor, Baby Art Prints, Kids Wall Art, Baby Room Decor, Baby Nursery Wall Art, Child Artwork',\n",
              "        'https://i.etsystatic.com/15100492/d/il/76b3ae/1797752747/il_340x270.1797752747_npvj.jpg?version=0',\n",
              "        'https://www.etsy.com/in-en/listing/676081969/baby-decor-kids-art-kids-prints?ga_order=most_relevant&ga_search_type=all&ga_view_type=gallery&ga_search_query=kids+wall+art&ref=sr_gallery-3-10&organic_search_click=1',\n",
              "        4.9865, 121, 23.01, 'United States', 2.200394866732478],\n",
              "       ['Baby Decor, Kids Art, Kids Prints, Childrens Decor, Baby Art Prints, Kids Wall Art, Baby Room Decor, Baby Nursery Wall Art, Child Artwork',\n",
              "        'https://i.etsystatic.com/15100492/d/il/e79b99/1859588484/il_340x270.1859588484_oifo.jpg?version=0',\n",
              "        'https://www.etsy.com/in-en/listing/688217472/baby-decor-kids-art-kids-prints?ga_order=most_relevant&ga_search_type=all&ga_view_type=gallery&ga_search_query=kids+wall+art&ref=sr_gallery-3-8&organic_search_click=1',\n",
              "        4.9865, 121, 23.01, 'United States', 2.200394866732478],\n",
              "       ['Always Be Yourself Unless You Can Be a Dinosaur Print, Dinosaur Decor, Kids Room Decor, Kids Wall Art, Nursery Wall Decor',\n",
              "        'https://i.etsystatic.com/14069412/c/1644/1306/214/317/il/79cb30/1739053168/il_340x270.1739053168_dp7s.jpg',\n",
              "        'https://www.etsy.com/in-en/listing/600456923/always-be-yourself-unless-you-can-be-a?ga_order=most_relevant&ga_search_type=all&ga_view_type=gallery&ga_search_query=kids+wall+art&ref=sr_gallery-2-4&organic_search_click=1',\n",
              "        4.9821, 123, 5.9, 'United States', 2.200394866732478],\n",
              "       ['personalised illustration, sister print, custom kids wall art, modern kids room, personalized kids print, unframed print',\n",
              "        'https://i.etsystatic.com/12728356/c/961/764/287/332/il/518b69/988095154/il_340x270.988095154_bnsc.jpg',\n",
              "        'https://www.etsy.com/in-en/listing/385575204/personalised-illustration-sister-print?ga_order=most_relevant&ga_search_type=all&ga_view_type=gallery&ga_search_query=kids+wall+art&ref=sr_gallery-3-9&organic_search_click=1',\n",
              "        5.0, 100, 22.7, 'United States', 2.200394866732478],\n",
              "       [\"Animal Alphabet children's art print, A2 poster, kids wall art, nursery decor, colourful educational illustration, animal print\",\n",
              "        'https://i.etsystatic.com/20372591/d/il/3d62e3/1965541799/il_340x270.1965541799_5azb.jpg?version=0',\n",
              "        'https://www.etsy.com/in-en/listing/715800411/animal-alphabet-childrens-art-print-a2?ga_order=most_relevant&ga_search_type=all&ga_view_type=gallery&ga_search_query=kids+wall+art&ref=sr_gallery-2-3&organic_search_click=1',\n",
              "        5.0, 4, 20.65, 'United States', 2.209772951628825],\n",
              "       [\"children's art print, circus horse print, instant download, animal print, kids wall art, childrens bedroom decor\",\n",
              "        'https://i.etsystatic.com/20372591/d/il/e4a72e/1943681370/il_340x270.1943681370_iinm.jpg?version=0',\n",
              "        'https://www.etsy.com/in-en/listing/721601133/childrens-art-print-circus-horse-print?ga_order=most_relevant&ga_search_type=all&ga_view_type=gallery&ga_search_query=kids+wall+art&ref=sr_gallery-6-12&organic_search_click=1',\n",
              "        5.0, 4, 4.35, 'United States', 2.209772951628825],\n",
              "       ['Circus Alphabet childrens art print by Emily Skinner, kids wall art, nursery decor, art prints, circus illustration, childrens prints',\n",
              "        'https://i.etsystatic.com/20372591/d/il/1fdf69/1930774158/il_340x270.1930774158_meix.jpg?version=0',\n",
              "        'https://www.etsy.com/in-en/listing/718709457/circus-alphabet-childrens-art-print-by?ga_order=most_relevant&ga_search_type=all&ga_view_type=gallery&ga_search_query=kids+wall+art&ref=sr_gallery-5-11&organic_search_click=1',\n",
              "        5.0, 4, 6.64, 'United States', 2.209772951628825],\n",
              "       [\"Children's art prints, instant download, set of circus prints, kids wall art, children's bedroom decor\",\n",
              "        'https://i.etsystatic.com/20372591/d/il/4f910f/1991236095/il_340x270.1991236095_519z.jpg?version=0',\n",
              "        'https://www.etsy.com/in-en/listing/707747450/childrens-art-prints-instant-download?ga_order=most_relevant&ga_search_type=all&ga_view_type=gallery&ga_search_query=kids+wall+art&ref=sr_gallery-4-1&organic_search_click=1',\n",
              "        5.0, 4, 16.98, 'United States', 2.209772951628825],\n",
              "       ['Bear Print, Kids Wall Art, Nursery Print, Bear Wall Art, Kids Print, Nursery Wall Art, Bear Nursery Decor, Kids Poster, Kinderzimmer Poster',\n",
              "        'https://i.etsystatic.com/18854809/d/il/72bcdd/1721793817/il_340x270.1721793817_5y7s.jpg?version=0',\n",
              "        'https://www.etsy.com/in-en/listing/642645240/bear-print-kids-wall-art-nursery-print?ga_order=most_relevant&ga_search_type=all&ga_view_type=gallery&ga_search_query=kids+wall+art&ref=sr_gallery-5-4&organic_search_click=1',\n",
              "        5.0, 11, 9.08, 'United States', 2.209772951628825],\n",
              "       ['Nursery Print, Kids Wall Art, Sleepy Bear Print, Kids Print, Nursery Wall Art, Kids Illustration, Animal Print, Kids Room Decor, Nursery Art',\n",
              "        'https://i.etsystatic.com/18854809/d/il/36381b/1676023608/il_340x270.1676023608_sp8a.jpg?version=0',\n",
              "        'https://www.etsy.com/in-en/listing/643014730/nursery-print-kids-wall-art-sleepy-bear?ga_order=most_relevant&ga_search_type=all&ga_view_type=gallery&ga_search_query=kids+wall+art&ref=sr_gallery-5-7&organic_search_click=1',\n",
              "        5.0, 11, 9.08, 'United States', 2.209772951628825],\n",
              "       ['Solar System Wall Art Prints, Solar System Nursery Prints, Space Room Decor, Space Nursery Decor, Kids Wall Art Prints, Solar System Poster',\n",
              "        'https://i.etsystatic.com/18972194/d/il/58c52c/1965118078/il_340x270.1965118078_3jqm.jpg?version=0',\n",
              "        'https://www.etsy.com/in-en/listing/707921063/solar-system-wall-art-prints-solar?ga_order=most_relevant&ga_search_type=all&ga_view_type=gallery&ga_search_query=kids+wall+art&ref=sr_gallery-3-12&organic_search_click=1',\n",
              "        5.0, 14, 7.08, 'United States', 2.209772951628825],\n",
              "       ['Hedgehog Nursery Art Print, Children Wall Decor, Kids Wall Art, Baby Room Wall Art, Animal Set Nursery Print, Children Art Print',\n",
              "        'https://i.etsystatic.com/11677822/d/il/a9f687/1155520906/il_340x270.1155520906_7bom.jpg?version=0',\n",
              "        'https://www.etsy.com/in-en/listing/502771720/hedgehog-nursery-art-print-children-wall?ga_order=most_relevant&ga_search_type=all&ga_view_type=gallery&ga_search_query=kids+wall+art&ref=sr_gallery-2-11&organic_search_click=1',\n",
              "        5.0, 17, 3.54, 'United States', 2.209772951628825],\n",
              "       ['Kids Gift Boy Room Wall Art, Kids Wall Art Print, Kids Room Wall Art, Kids Animal Print Wall Art Bedroom Wall Art Painting, Nerd Hamster Art',\n",
              "        'https://i.etsystatic.com/14007756/c/375/297/99/266/il/115add/1402021971/il_340x270.1402021971_5h2e.jpg',\n",
              "        'https://www.etsy.com/in-en/listing/559122650/kids-gift-boy-room-wall-art-kids-wall?ga_order=most_relevant&ga_search_type=all&ga_view_type=gallery&ga_search_query=kids+wall+art&ref=sr_gallery-2-2&organic_search_click=1&pro=1',\n",
              "        5.0, 16, 24.75, 'United States', 2.209772951628825],\n",
              "       ['Dolphins Print, Watercolour Animal,Nursery Room Decor,Boys Room Poster,Kids Wall Art,Nursery Decor,Nursery Child Toddler Prints, Printable',\n",
              "        'https://i.etsystatic.com/18892663/c/3000/2384/0/615/il/e328d9/1973981984/il_340x270.1973981984_8y5h.jpg',\n",
              "        'https://www.etsy.com/in-en/listing/714762762/dolphins-print-watercolour-animalnursery?ga_order=most_relevant&ga_search_type=all&ga_view_type=gallery&ga_search_query=kids+wall+art&ref=sr_gallery-6-1&organic_search_click=1&pro=1',\n",
              "        4.95, 20, 5.11, 'United States', 2.209772951628825],\n",
              "       ['Set of 2 Rainbow Print, Somewhere over the rainbow, Nursery Room Decor, Girls Room,Kids Wall Art,Nursery Child Prints, Home Prints,Printable',\n",
              "        'https://i.etsystatic.com/18892663/d/il/357775/2018884337/il_340x270.2018884337_qfxd.jpg?version=0',\n",
              "        'https://www.etsy.com/in-en/listing/714144372/set-of-2-rainbow-print-somewhere-over?ga_order=most_relevant&ga_search_type=all&ga_view_type=gallery&ga_search_query=kids+wall+art&ref=sr_gallery-4-6&organic_search_click=1&pro=1',\n",
              "        4.95, 20, 8.87, 'United States', 2.209772951628825],\n",
              "       ['Pastel Nursery Decor - Rainbow Blush - Abstract Rainbow Print - Gender Neutral Nursery - Neutral Rainbow Art - Boho Nursery - Kids Wall Art',\n",
              "        'https://i.etsystatic.com/16087812/c/1692/1345/462/245/il/77cdc9/1981648837/il_340x270.1981648837_4w31.jpg',\n",
              "        'https://www.etsy.com/in-en/listing/719441063/pastel-nursery-decor-rainbow-blush?ga_order=most_relevant&ga_search_type=all&ga_view_type=gallery&ga_search_query=kids+wall+art&ref=sr_gallery-3-2&organic_search_click=1&pro=1&frs=1',\n",
              "        5.0, 29, 19.14, 'United States', 2.209772951628825],\n",
              "       ['4 robot art prints, instant download, boys bedroom decor, kids wall art, posters for kids, robot illustration',\n",
              "        'https://i.etsystatic.com/20372591/d/il/983b71/1958340933/il_340x270.1958340933_306k.jpg?version=0',\n",
              "        'https://www.etsy.com/in-en/listing/714140289/4-robot-art-prints-instant-download-boys?ga_order=most_relevant&ga_search_type=all&ga_view_type=gallery&ga_search_query=kids+wall+art&ref=sr_gallery-3-6&organic_search_click=1',\n",
              "        5.0, 4, 11.74, 'United States', 2.209772951628825],\n",
              "       ['Set of 3,Woodland Nursery Decor,Animal Nursery Decor,Woodland print,Animal Print,Woodland Nursery Print,Animal Nursery Print,Kids Wall Art',\n",
              "        'https://i.etsystatic.com/18972194/d/il/8ebd7e/1985389194/il_340x270.1985389194_ei9b.jpg?version=0',\n",
              "        'https://www.etsy.com/in-en/listing/677001891/set-of-3woodland-nursery-decoranimal?ga_order=most_relevant&ga_search_type=all&ga_view_type=gallery&ga_search_query=kids+wall+art&ref=sr_gallery-6-5&organic_search_click=1',\n",
              "        5.0, 14, 10.62, 'United States', 2.209772951628825],\n",
              "       ['Little Man Cave, Grey and Mustard, Playroom Decor, Neutral Nursery, Grey Colours,  Nursery Print, Scandi Style, A5, A4, Kids Wall Art',\n",
              "        'https://i.etsystatic.com/18383937/d/il/431a8c/1881672485/il_340x270.1881672485_k7xu.jpg?version=0',\n",
              "        'https://www.etsy.com/in-en/listing/682110078/little-man-cave-grey-and-mustard?ga_order=most_relevant&ga_search_type=all&ga_view_type=gallery&ga_search_query=kids+wall+art&ref=sr_gallery-6-6&organic_search_click=1',\n",
              "        5.0, 1, 7.51, 'United States', 2.209772951628825],\n",
              "       ['Decorative Mask, Living Room Wall Decor, Pop Art, Wood Wall Hanging, Modern Wall Decor, Kids Wall Art, Urban Art, 3D Wall Art, African Mask',\n",
              "        'https://i.etsystatic.com/10135848/c/813/645/85/181/il/f707d7/1431176997/il_340x270.1431176997_1rho.jpg',\n",
              "        'https://www.etsy.com/in-en/listing/239383727/decorative-mask-living-room-wall-decor?ga_order=most_relevant&ga_search_type=all&ga_view_type=gallery&ga_search_query=kids+wall+art&ref=sr_gallery-7-11&organic_search_click=1&frs=1',\n",
              "        5.0, 39, 204.0, 'United States', 20.0]], dtype=object)"
            ]
          },
          "metadata": {
            "tags": []
          },
          "execution_count": 129
        }
      ]
    },
    {
      "cell_type": "code",
      "metadata": {
        "id": "LDb1giHe0k4Q",
        "colab_type": "code",
        "colab": {}
      },
      "source": [
        "data = pd.DataFrame(final,columns=['Item','Image URL','Item URL','Rating','Reviews','Price','Country','Predicted Rank'])\n"
      ],
      "execution_count": 0,
      "outputs": []
    },
    {
      "cell_type": "code",
      "metadata": {
        "id": "yXDUuQ6ZUUp9",
        "colab_type": "code",
        "colab": {}
      },
      "source": [
        "pd.DataFrame(data).to_csv(\"final.csv\")\n"
      ],
      "execution_count": 0,
      "outputs": []
    }
  ]
}